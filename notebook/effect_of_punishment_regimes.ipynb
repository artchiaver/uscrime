{
 "cells": [
  {
   "cell_type": "markdown",
   "metadata": {},
   "source": [
    "# US CRIME - Effect of Punishment Regimes on Crime Rates\n",
    "\n",
    "Author: **Artur Chiaperini Grover**   \n",
    "\n",
    "-------   \n",
    "\n",
    "In this exercise, I will create a regression model in order to find out what is the crime rate, denoted by variable `Crime`, for the following point (where variables assume the values):\n",
    "- `M = 14.0`\n",
    "- `So = 0`\n",
    "- `Ed = 10.0`\n",
    "- `Po1 = 12.0`\n",
    "- `Po2 = 15.5`\n",
    "- `LF = 0.640`\n",
    "- `M.F = 94`\n",
    "- `Pop = 150`\n",
    "- `NW = 1.1`\n",
    "- `U1 = 0.120`\n",
    "- `U2 = 3.6`\n",
    "- `Wealth = 3200`\n",
    "- `Ineq = 20.1`\n",
    "- `Prop = 0.04`\n",
    "- `Time = 39.0` \n",
    "- `Crime = ???` \n",
    "\n",
    "-------    "
   ]
  },
  {
   "cell_type": "markdown",
   "metadata": {},
   "source": [
    "# Data Description\n",
    "\n",
    "The dataset can be found in [here](http://www.statsci.org/data/general/uscrime.html), and the information below was extracted from it.\n",
    "\n",
    ">In order to investigate the effect of punishment regimes on crime rates, criminologists used the aggregated data of 47 states of the USA for 1960. The variables considered in this study are the following:   \n",
    ">\n",
    ">| Variable | Description |\n",
    ">|:---------|:------------|\n",
    ">| M\t\t| percentage of males aged 14–24 in total state population |\n",
    ">| So\t    | indicator variable for a southern state |\n",
    ">| Ed\t    | mean years of schooling of the population aged 25 years or over |\n",
    ">| Po1\t    | per capita expenditure on police protection in 1960 |\n",
    ">| Po2\t    | per capita expenditure on police protection in 1959 |\n",
    ">| LF\t    | labour force participation rate of civilian urban males in the age-group 14-24 |\n",
    ">| M.F\t    | number of males per 100 females |\n",
    ">| Pop\t    | state population in 1960 in hundred thousands |\n",
    ">| NW\t    | percentage of nonwhites in the population |\n",
    ">| U1       | unemployment rate of urban males 14–24 |\n",
    ">| U2\t    | unemployment rate of urban males 35–39 |\n",
    ">| Wealth   | wealth: median value of transferable assets or family income |\n",
    ">| Ineq\t    | income inequality: percentage of families earning below half the median income |\n",
    ">| Prob\t    | probability of imprisonment: ratio of number of commitments to number of offenses |\n",
    ">| Time\t    | average time in months served by offenders in state prisons before their first release |\n",
    ">| Crime\t| crime rate: number of offenses per 100,000 population in 1960 |   "
   ]
  },
  {
   "cell_type": "markdown",
   "metadata": {},
   "source": [
    "--------\n",
    "# Data Exploration\n",
    "\n",
    "Our goal is to model the experiment based on the dataset in order to determine the crime rate for the variables values given above. We can see the `Crime` (crime rate) as a function of the other variables, for instance:\n",
    "$$\n",
    "\\begin{equation}\n",
    "    f(\\mathbf{X}) = \\mathbf{A} * \\mathbf{X} + C, \n",
    "\\end{equation}\n",
    "$$\n",
    "where $f(\\mathbf{X}) = Y = $ `Crime`, $\\mathbf{X} = $ `(M, So, Ed, Po1, Po2, LF, M.F, Pop, NW, U1, U2, Wealth, Ineq, Prob, Time)`, $\\mathbf{A}$ are the parameters of the model, and $C$ is a constant. At this point this is just one idea to illustrate the the problem, as a linear case, which in the future may turn out to be not the reality.  \n",
    "\n",
    "Below we load the dataset and assign it to a pandas DataFrame object `df_crimes`, this allow us to have an initial look at our dataset."
   ]
  },
  {
   "cell_type": "code",
   "execution_count": 1,
   "metadata": {},
   "outputs": [],
   "source": [
    "import pandas as pd\n",
    "import numpy as np\n",
    "\n",
    "import matplotlib as mpl\n",
    "import matplotlib.pyplot as plt\n",
    "import seaborn as sns\n",
    "\n",
    "import plotly.express as px\n",
    "import plotly.graph_objects as go \n",
    "from plotly.subplots import make_subplots\n",
    "import statsmodels.api as sm"
   ]
  },
  {
   "cell_type": "code",
   "execution_count": 2,
   "metadata": {},
   "outputs": [],
   "source": [
    "df_crimes = pd.read_csv(\"../dataset/uscrime.txt\", sep=\"\\t\")"
   ]
  },
  {
   "cell_type": "code",
   "execution_count": 3,
   "metadata": {},
   "outputs": [
    {
     "data": {
      "text/html": [
       "<div>\n",
       "<style scoped>\n",
       "    .dataframe tbody tr th:only-of-type {\n",
       "        vertical-align: middle;\n",
       "    }\n",
       "\n",
       "    .dataframe tbody tr th {\n",
       "        vertical-align: top;\n",
       "    }\n",
       "\n",
       "    .dataframe thead th {\n",
       "        text-align: right;\n",
       "    }\n",
       "</style>\n",
       "<table border=\"1\" class=\"dataframe\">\n",
       "  <thead>\n",
       "    <tr style=\"text-align: right;\">\n",
       "      <th></th>\n",
       "      <th>M</th>\n",
       "      <th>So</th>\n",
       "      <th>Ed</th>\n",
       "      <th>Po1</th>\n",
       "      <th>Po2</th>\n",
       "      <th>LF</th>\n",
       "      <th>M.F</th>\n",
       "      <th>Pop</th>\n",
       "      <th>NW</th>\n",
       "      <th>U1</th>\n",
       "      <th>U2</th>\n",
       "      <th>Wealth</th>\n",
       "      <th>Ineq</th>\n",
       "      <th>Prob</th>\n",
       "      <th>Time</th>\n",
       "      <th>Crime</th>\n",
       "    </tr>\n",
       "  </thead>\n",
       "  <tbody>\n",
       "    <tr>\n",
       "      <th>0</th>\n",
       "      <td>15.1</td>\n",
       "      <td>1</td>\n",
       "      <td>9.1</td>\n",
       "      <td>5.8</td>\n",
       "      <td>5.6</td>\n",
       "      <td>0.510</td>\n",
       "      <td>95.0</td>\n",
       "      <td>33</td>\n",
       "      <td>30.1</td>\n",
       "      <td>0.108</td>\n",
       "      <td>4.1</td>\n",
       "      <td>3940</td>\n",
       "      <td>26.1</td>\n",
       "      <td>0.084602</td>\n",
       "      <td>26.2011</td>\n",
       "      <td>791</td>\n",
       "    </tr>\n",
       "    <tr>\n",
       "      <th>1</th>\n",
       "      <td>14.3</td>\n",
       "      <td>0</td>\n",
       "      <td>11.3</td>\n",
       "      <td>10.3</td>\n",
       "      <td>9.5</td>\n",
       "      <td>0.583</td>\n",
       "      <td>101.2</td>\n",
       "      <td>13</td>\n",
       "      <td>10.2</td>\n",
       "      <td>0.096</td>\n",
       "      <td>3.6</td>\n",
       "      <td>5570</td>\n",
       "      <td>19.4</td>\n",
       "      <td>0.029599</td>\n",
       "      <td>25.2999</td>\n",
       "      <td>1635</td>\n",
       "    </tr>\n",
       "    <tr>\n",
       "      <th>2</th>\n",
       "      <td>14.2</td>\n",
       "      <td>1</td>\n",
       "      <td>8.9</td>\n",
       "      <td>4.5</td>\n",
       "      <td>4.4</td>\n",
       "      <td>0.533</td>\n",
       "      <td>96.9</td>\n",
       "      <td>18</td>\n",
       "      <td>21.9</td>\n",
       "      <td>0.094</td>\n",
       "      <td>3.3</td>\n",
       "      <td>3180</td>\n",
       "      <td>25.0</td>\n",
       "      <td>0.083401</td>\n",
       "      <td>24.3006</td>\n",
       "      <td>578</td>\n",
       "    </tr>\n",
       "    <tr>\n",
       "      <th>3</th>\n",
       "      <td>13.6</td>\n",
       "      <td>0</td>\n",
       "      <td>12.1</td>\n",
       "      <td>14.9</td>\n",
       "      <td>14.1</td>\n",
       "      <td>0.577</td>\n",
       "      <td>99.4</td>\n",
       "      <td>157</td>\n",
       "      <td>8.0</td>\n",
       "      <td>0.102</td>\n",
       "      <td>3.9</td>\n",
       "      <td>6730</td>\n",
       "      <td>16.7</td>\n",
       "      <td>0.015801</td>\n",
       "      <td>29.9012</td>\n",
       "      <td>1969</td>\n",
       "    </tr>\n",
       "    <tr>\n",
       "      <th>4</th>\n",
       "      <td>14.1</td>\n",
       "      <td>0</td>\n",
       "      <td>12.1</td>\n",
       "      <td>10.9</td>\n",
       "      <td>10.1</td>\n",
       "      <td>0.591</td>\n",
       "      <td>98.5</td>\n",
       "      <td>18</td>\n",
       "      <td>3.0</td>\n",
       "      <td>0.091</td>\n",
       "      <td>2.0</td>\n",
       "      <td>5780</td>\n",
       "      <td>17.4</td>\n",
       "      <td>0.041399</td>\n",
       "      <td>21.2998</td>\n",
       "      <td>1234</td>\n",
       "    </tr>\n",
       "    <tr>\n",
       "      <th>5</th>\n",
       "      <td>12.1</td>\n",
       "      <td>0</td>\n",
       "      <td>11.0</td>\n",
       "      <td>11.8</td>\n",
       "      <td>11.5</td>\n",
       "      <td>0.547</td>\n",
       "      <td>96.4</td>\n",
       "      <td>25</td>\n",
       "      <td>4.4</td>\n",
       "      <td>0.084</td>\n",
       "      <td>2.9</td>\n",
       "      <td>6890</td>\n",
       "      <td>12.6</td>\n",
       "      <td>0.034201</td>\n",
       "      <td>20.9995</td>\n",
       "      <td>682</td>\n",
       "    </tr>\n",
       "    <tr>\n",
       "      <th>6</th>\n",
       "      <td>12.7</td>\n",
       "      <td>1</td>\n",
       "      <td>11.1</td>\n",
       "      <td>8.2</td>\n",
       "      <td>7.9</td>\n",
       "      <td>0.519</td>\n",
       "      <td>98.2</td>\n",
       "      <td>4</td>\n",
       "      <td>13.9</td>\n",
       "      <td>0.097</td>\n",
       "      <td>3.8</td>\n",
       "      <td>6200</td>\n",
       "      <td>16.8</td>\n",
       "      <td>0.042100</td>\n",
       "      <td>20.6993</td>\n",
       "      <td>963</td>\n",
       "    </tr>\n",
       "    <tr>\n",
       "      <th>7</th>\n",
       "      <td>13.1</td>\n",
       "      <td>1</td>\n",
       "      <td>10.9</td>\n",
       "      <td>11.5</td>\n",
       "      <td>10.9</td>\n",
       "      <td>0.542</td>\n",
       "      <td>96.9</td>\n",
       "      <td>50</td>\n",
       "      <td>17.9</td>\n",
       "      <td>0.079</td>\n",
       "      <td>3.5</td>\n",
       "      <td>4720</td>\n",
       "      <td>20.6</td>\n",
       "      <td>0.040099</td>\n",
       "      <td>24.5988</td>\n",
       "      <td>1555</td>\n",
       "    </tr>\n",
       "    <tr>\n",
       "      <th>8</th>\n",
       "      <td>15.7</td>\n",
       "      <td>1</td>\n",
       "      <td>9.0</td>\n",
       "      <td>6.5</td>\n",
       "      <td>6.2</td>\n",
       "      <td>0.553</td>\n",
       "      <td>95.5</td>\n",
       "      <td>39</td>\n",
       "      <td>28.6</td>\n",
       "      <td>0.081</td>\n",
       "      <td>2.8</td>\n",
       "      <td>4210</td>\n",
       "      <td>23.9</td>\n",
       "      <td>0.071697</td>\n",
       "      <td>29.4001</td>\n",
       "      <td>856</td>\n",
       "    </tr>\n",
       "    <tr>\n",
       "      <th>9</th>\n",
       "      <td>14.0</td>\n",
       "      <td>0</td>\n",
       "      <td>11.8</td>\n",
       "      <td>7.1</td>\n",
       "      <td>6.8</td>\n",
       "      <td>0.632</td>\n",
       "      <td>102.9</td>\n",
       "      <td>7</td>\n",
       "      <td>1.5</td>\n",
       "      <td>0.100</td>\n",
       "      <td>2.4</td>\n",
       "      <td>5260</td>\n",
       "      <td>17.4</td>\n",
       "      <td>0.044498</td>\n",
       "      <td>19.5994</td>\n",
       "      <td>705</td>\n",
       "    </tr>\n",
       "  </tbody>\n",
       "</table>\n",
       "</div>"
      ],
      "text/plain": [
       "      M  So    Ed   Po1   Po2     LF    M.F  Pop    NW     U1   U2  Wealth  \\\n",
       "0  15.1   1   9.1   5.8   5.6  0.510   95.0   33  30.1  0.108  4.1    3940   \n",
       "1  14.3   0  11.3  10.3   9.5  0.583  101.2   13  10.2  0.096  3.6    5570   \n",
       "2  14.2   1   8.9   4.5   4.4  0.533   96.9   18  21.9  0.094  3.3    3180   \n",
       "3  13.6   0  12.1  14.9  14.1  0.577   99.4  157   8.0  0.102  3.9    6730   \n",
       "4  14.1   0  12.1  10.9  10.1  0.591   98.5   18   3.0  0.091  2.0    5780   \n",
       "5  12.1   0  11.0  11.8  11.5  0.547   96.4   25   4.4  0.084  2.9    6890   \n",
       "6  12.7   1  11.1   8.2   7.9  0.519   98.2    4  13.9  0.097  3.8    6200   \n",
       "7  13.1   1  10.9  11.5  10.9  0.542   96.9   50  17.9  0.079  3.5    4720   \n",
       "8  15.7   1   9.0   6.5   6.2  0.553   95.5   39  28.6  0.081  2.8    4210   \n",
       "9  14.0   0  11.8   7.1   6.8  0.632  102.9    7   1.5  0.100  2.4    5260   \n",
       "\n",
       "   Ineq      Prob     Time  Crime  \n",
       "0  26.1  0.084602  26.2011    791  \n",
       "1  19.4  0.029599  25.2999   1635  \n",
       "2  25.0  0.083401  24.3006    578  \n",
       "3  16.7  0.015801  29.9012   1969  \n",
       "4  17.4  0.041399  21.2998   1234  \n",
       "5  12.6  0.034201  20.9995    682  \n",
       "6  16.8  0.042100  20.6993    963  \n",
       "7  20.6  0.040099  24.5988   1555  \n",
       "8  23.9  0.071697  29.4001    856  \n",
       "9  17.4  0.044498  19.5994    705  "
      ]
     },
     "execution_count": 3,
     "metadata": {},
     "output_type": "execute_result"
    }
   ],
   "source": [
    "df_crimes.head(10)"
   ]
  },
  {
   "cell_type": "code",
   "execution_count": 4,
   "metadata": {},
   "outputs": [
    {
     "name": "stdout",
     "output_type": "stream",
     "text": [
      "Dataset dimension: (47, 16)\n",
      "Inspection of missing values: \n",
      "M         0\n",
      "So        0\n",
      "Ed        0\n",
      "Po1       0\n",
      "Po2       0\n",
      "LF        0\n",
      "M.F       0\n",
      "Pop       0\n",
      "NW        0\n",
      "U1        0\n",
      "U2        0\n",
      "Wealth    0\n",
      "Ineq      0\n",
      "Prob      0\n",
      "Time      0\n",
      "Crime     0\n",
      "dtype: int64\n"
     ]
    }
   ],
   "source": [
    "print(f\"Dataset dimension: {df_crimes.shape}\")\n",
    "print(f\"Inspection of missing values: \\n{df_crimes.isnull().sum()}\")"
   ]
  },
  {
   "cell_type": "markdown",
   "metadata": {},
   "source": [
    "Our data has no missing values, as we can see from above.\n",
    "\n",
    "According to the data description, `So` is an indicator variable which should be treated as a categorical variable.\n",
    "\n",
    "From the data, its shape has dimension 47 X 15. There are 47 points (`Crime`), and each one of theses points have 15 variables. "
   ]
  },
  {
   "cell_type": "code",
   "execution_count": 5,
   "metadata": {},
   "outputs": [
    {
     "name": "stdout",
     "output_type": "stream",
     "text": [
      "<class 'pandas.core.frame.DataFrame'>\n",
      "RangeIndex: 47 entries, 0 to 46\n",
      "Data columns (total 16 columns):\n",
      " #   Column  Non-Null Count  Dtype   \n",
      "---  ------  --------------  -----   \n",
      " 0   M       47 non-null     float64 \n",
      " 1   So      47 non-null     category\n",
      " 2   Ed      47 non-null     float64 \n",
      " 3   Po1     47 non-null     float64 \n",
      " 4   Po2     47 non-null     float64 \n",
      " 5   LF      47 non-null     float64 \n",
      " 6   M.F     47 non-null     float64 \n",
      " 7   Pop     47 non-null     int64   \n",
      " 8   NW      47 non-null     float64 \n",
      " 9   U1      47 non-null     float64 \n",
      " 10  U2      47 non-null     float64 \n",
      " 11  Wealth  47 non-null     int64   \n",
      " 12  Ineq    47 non-null     float64 \n",
      " 13  Prob    47 non-null     float64 \n",
      " 14  Time    47 non-null     float64 \n",
      " 15  Crime   47 non-null     int64   \n",
      "dtypes: category(1), float64(12), int64(3)\n",
      "memory usage: 5.8 KB\n"
     ]
    }
   ],
   "source": [
    "df_crimes['So'] = df_crimes['So'].astype('category')\n",
    "df_crimes.info()"
   ]
  },
  {
   "cell_type": "code",
   "execution_count": 6,
   "metadata": {},
   "outputs": [
    {
     "data": {
      "text/html": [
       "<div>\n",
       "<style scoped>\n",
       "    .dataframe tbody tr th:only-of-type {\n",
       "        vertical-align: middle;\n",
       "    }\n",
       "\n",
       "    .dataframe tbody tr th {\n",
       "        vertical-align: top;\n",
       "    }\n",
       "\n",
       "    .dataframe thead th {\n",
       "        text-align: right;\n",
       "    }\n",
       "</style>\n",
       "<table border=\"1\" class=\"dataframe\">\n",
       "  <thead>\n",
       "    <tr style=\"text-align: right;\">\n",
       "      <th></th>\n",
       "      <th>M</th>\n",
       "      <th>Ed</th>\n",
       "      <th>Po1</th>\n",
       "      <th>Po2</th>\n",
       "      <th>LF</th>\n",
       "      <th>M.F</th>\n",
       "      <th>Pop</th>\n",
       "      <th>NW</th>\n",
       "      <th>U1</th>\n",
       "      <th>U2</th>\n",
       "      <th>Wealth</th>\n",
       "      <th>Ineq</th>\n",
       "      <th>Prob</th>\n",
       "      <th>Time</th>\n",
       "      <th>Crime</th>\n",
       "    </tr>\n",
       "  </thead>\n",
       "  <tbody>\n",
       "    <tr>\n",
       "      <th>count</th>\n",
       "      <td>47.000000</td>\n",
       "      <td>47.00000</td>\n",
       "      <td>47.000000</td>\n",
       "      <td>47.000000</td>\n",
       "      <td>47.000000</td>\n",
       "      <td>47.000000</td>\n",
       "      <td>47.000000</td>\n",
       "      <td>47.000000</td>\n",
       "      <td>47.000000</td>\n",
       "      <td>47.000000</td>\n",
       "      <td>47.000000</td>\n",
       "      <td>47.000000</td>\n",
       "      <td>47.000000</td>\n",
       "      <td>47.000000</td>\n",
       "      <td>47.000000</td>\n",
       "    </tr>\n",
       "    <tr>\n",
       "      <th>mean</th>\n",
       "      <td>13.857447</td>\n",
       "      <td>10.56383</td>\n",
       "      <td>8.500000</td>\n",
       "      <td>8.023404</td>\n",
       "      <td>0.561191</td>\n",
       "      <td>98.302128</td>\n",
       "      <td>36.617021</td>\n",
       "      <td>10.112766</td>\n",
       "      <td>0.095468</td>\n",
       "      <td>3.397872</td>\n",
       "      <td>5253.829787</td>\n",
       "      <td>19.400000</td>\n",
       "      <td>0.047091</td>\n",
       "      <td>26.597921</td>\n",
       "      <td>905.085106</td>\n",
       "    </tr>\n",
       "    <tr>\n",
       "      <th>std</th>\n",
       "      <td>1.256763</td>\n",
       "      <td>1.11870</td>\n",
       "      <td>2.971897</td>\n",
       "      <td>2.796132</td>\n",
       "      <td>0.040412</td>\n",
       "      <td>2.946737</td>\n",
       "      <td>38.071188</td>\n",
       "      <td>10.282882</td>\n",
       "      <td>0.018029</td>\n",
       "      <td>0.844545</td>\n",
       "      <td>964.909442</td>\n",
       "      <td>3.989606</td>\n",
       "      <td>0.022737</td>\n",
       "      <td>7.086895</td>\n",
       "      <td>386.762697</td>\n",
       "    </tr>\n",
       "    <tr>\n",
       "      <th>min</th>\n",
       "      <td>11.900000</td>\n",
       "      <td>8.70000</td>\n",
       "      <td>4.500000</td>\n",
       "      <td>4.100000</td>\n",
       "      <td>0.480000</td>\n",
       "      <td>93.400000</td>\n",
       "      <td>3.000000</td>\n",
       "      <td>0.200000</td>\n",
       "      <td>0.070000</td>\n",
       "      <td>2.000000</td>\n",
       "      <td>2880.000000</td>\n",
       "      <td>12.600000</td>\n",
       "      <td>0.006900</td>\n",
       "      <td>12.199600</td>\n",
       "      <td>342.000000</td>\n",
       "    </tr>\n",
       "    <tr>\n",
       "      <th>25%</th>\n",
       "      <td>13.000000</td>\n",
       "      <td>9.75000</td>\n",
       "      <td>6.250000</td>\n",
       "      <td>5.850000</td>\n",
       "      <td>0.530500</td>\n",
       "      <td>96.450000</td>\n",
       "      <td>10.000000</td>\n",
       "      <td>2.400000</td>\n",
       "      <td>0.080500</td>\n",
       "      <td>2.750000</td>\n",
       "      <td>4595.000000</td>\n",
       "      <td>16.550000</td>\n",
       "      <td>0.032701</td>\n",
       "      <td>21.600350</td>\n",
       "      <td>658.500000</td>\n",
       "    </tr>\n",
       "    <tr>\n",
       "      <th>50%</th>\n",
       "      <td>13.600000</td>\n",
       "      <td>10.80000</td>\n",
       "      <td>7.800000</td>\n",
       "      <td>7.300000</td>\n",
       "      <td>0.560000</td>\n",
       "      <td>97.700000</td>\n",
       "      <td>25.000000</td>\n",
       "      <td>7.600000</td>\n",
       "      <td>0.092000</td>\n",
       "      <td>3.400000</td>\n",
       "      <td>5370.000000</td>\n",
       "      <td>17.600000</td>\n",
       "      <td>0.042100</td>\n",
       "      <td>25.800600</td>\n",
       "      <td>831.000000</td>\n",
       "    </tr>\n",
       "    <tr>\n",
       "      <th>75%</th>\n",
       "      <td>14.600000</td>\n",
       "      <td>11.45000</td>\n",
       "      <td>10.450000</td>\n",
       "      <td>9.700000</td>\n",
       "      <td>0.593000</td>\n",
       "      <td>99.200000</td>\n",
       "      <td>41.500000</td>\n",
       "      <td>13.250000</td>\n",
       "      <td>0.104000</td>\n",
       "      <td>3.850000</td>\n",
       "      <td>5915.000000</td>\n",
       "      <td>22.750000</td>\n",
       "      <td>0.054450</td>\n",
       "      <td>30.450750</td>\n",
       "      <td>1057.500000</td>\n",
       "    </tr>\n",
       "    <tr>\n",
       "      <th>max</th>\n",
       "      <td>17.700000</td>\n",
       "      <td>12.20000</td>\n",
       "      <td>16.600000</td>\n",
       "      <td>15.700000</td>\n",
       "      <td>0.641000</td>\n",
       "      <td>107.100000</td>\n",
       "      <td>168.000000</td>\n",
       "      <td>42.300000</td>\n",
       "      <td>0.142000</td>\n",
       "      <td>5.800000</td>\n",
       "      <td>6890.000000</td>\n",
       "      <td>27.600000</td>\n",
       "      <td>0.119804</td>\n",
       "      <td>44.000400</td>\n",
       "      <td>1993.000000</td>\n",
       "    </tr>\n",
       "  </tbody>\n",
       "</table>\n",
       "</div>"
      ],
      "text/plain": [
       "               M        Ed        Po1        Po2         LF         M.F  \\\n",
       "count  47.000000  47.00000  47.000000  47.000000  47.000000   47.000000   \n",
       "mean   13.857447  10.56383   8.500000   8.023404   0.561191   98.302128   \n",
       "std     1.256763   1.11870   2.971897   2.796132   0.040412    2.946737   \n",
       "min    11.900000   8.70000   4.500000   4.100000   0.480000   93.400000   \n",
       "25%    13.000000   9.75000   6.250000   5.850000   0.530500   96.450000   \n",
       "50%    13.600000  10.80000   7.800000   7.300000   0.560000   97.700000   \n",
       "75%    14.600000  11.45000  10.450000   9.700000   0.593000   99.200000   \n",
       "max    17.700000  12.20000  16.600000  15.700000   0.641000  107.100000   \n",
       "\n",
       "              Pop         NW         U1         U2       Wealth       Ineq  \\\n",
       "count   47.000000  47.000000  47.000000  47.000000    47.000000  47.000000   \n",
       "mean    36.617021  10.112766   0.095468   3.397872  5253.829787  19.400000   \n",
       "std     38.071188  10.282882   0.018029   0.844545   964.909442   3.989606   \n",
       "min      3.000000   0.200000   0.070000   2.000000  2880.000000  12.600000   \n",
       "25%     10.000000   2.400000   0.080500   2.750000  4595.000000  16.550000   \n",
       "50%     25.000000   7.600000   0.092000   3.400000  5370.000000  17.600000   \n",
       "75%     41.500000  13.250000   0.104000   3.850000  5915.000000  22.750000   \n",
       "max    168.000000  42.300000   0.142000   5.800000  6890.000000  27.600000   \n",
       "\n",
       "            Prob       Time        Crime  \n",
       "count  47.000000  47.000000    47.000000  \n",
       "mean    0.047091  26.597921   905.085106  \n",
       "std     0.022737   7.086895   386.762697  \n",
       "min     0.006900  12.199600   342.000000  \n",
       "25%     0.032701  21.600350   658.500000  \n",
       "50%     0.042100  25.800600   831.000000  \n",
       "75%     0.054450  30.450750  1057.500000  \n",
       "max     0.119804  44.000400  1993.000000  "
      ]
     },
     "execution_count": 6,
     "metadata": {},
     "output_type": "execute_result"
    }
   ],
   "source": [
    "df_crimes.describe()"
   ]
  },
  {
   "cell_type": "markdown",
   "metadata": {},
   "source": [
    "Another useful method of `df_crimes` object is `.describe()` which summarises the variables and we can start to see the minimum and maximum of the dataset, as well as the mean values of each varible.  \n",
    "\n",
    "We can see that the total count holds for every variable as was shown by `.info()` method, and we also see that all of the variables are positive. Given the kind of study these variables relate to, the fact that all of them are positive is rather expected. These variables, according to the description, are porcentages, counts, and averages of positive or null numbers, thus we would not expect to find any negative number.   "
   ]
  },
  {
   "cell_type": "code",
   "execution_count": 7,
   "metadata": {},
   "outputs": [
    {
     "data": {
      "application/vnd.plotly.v1+json": {
       "config": {
        "plotlyServerURL": "https://plot.ly"
       },
       "data": [
        {
         "alignmentgroup": "True",
         "hovertemplate": "So=%{x}<br>Crime=%{y}<extra></extra>",
         "legendgroup": "1",
         "marker": {
          "color": "#636efa",
          "pattern": {
           "shape": ""
          }
         },
         "name": "1",
         "offsetgroup": "1",
         "orientation": "v",
         "showlegend": true,
         "textposition": "auto",
         "type": "bar",
         "x": [
          1,
          1,
          1,
          1,
          1,
          1,
          1,
          1,
          1,
          1,
          1,
          1,
          1,
          1,
          1,
          1
         ],
         "xaxis": "x",
         "y": [
          791,
          578,
          963,
          1555,
          856,
          798,
          946,
          929,
          439,
          696,
          1072,
          831,
          826,
          1151,
          823,
          455
         ],
         "yaxis": "y"
        },
        {
         "alignmentgroup": "True",
         "hovertemplate": "So=%{x}<br>Crime=%{y}<extra></extra>",
         "legendgroup": "0",
         "marker": {
          "color": "#EF553B",
          "pattern": {
           "shape": ""
          }
         },
         "name": "0",
         "offsetgroup": "0",
         "orientation": "v",
         "showlegend": true,
         "textposition": "auto",
         "type": "bar",
         "x": [
          0,
          0,
          0,
          0,
          0,
          0,
          0,
          0,
          0,
          0,
          0,
          0,
          0,
          0,
          0,
          0,
          0,
          0,
          0,
          0,
          0,
          0,
          0,
          0,
          0,
          0,
          0,
          0,
          0,
          0,
          0
         ],
         "xaxis": "x",
         "y": [
          1635,
          1969,
          1234,
          682,
          705,
          1674,
          849,
          511,
          664,
          539,
          750,
          1225,
          742,
          1216,
          968,
          523,
          1993,
          342,
          1216,
          1043,
          373,
          754,
          923,
          653,
          1272,
          566,
          880,
          542,
          1030,
          508,
          849
         ],
         "yaxis": "y"
        }
       ],
       "layout": {
        "barmode": "group",
        "legend": {
         "title": {
          "text": "So"
         },
         "tracegroupgap": 0
        },
        "margin": {
         "t": 60
        },
        "template": {
         "data": {
          "bar": [
           {
            "error_x": {
             "color": "#2a3f5f"
            },
            "error_y": {
             "color": "#2a3f5f"
            },
            "marker": {
             "line": {
              "color": "#E5ECF6",
              "width": 0.5
             },
             "pattern": {
              "fillmode": "overlay",
              "size": 10,
              "solidity": 0.2
             }
            },
            "type": "bar"
           }
          ],
          "barpolar": [
           {
            "marker": {
             "line": {
              "color": "#E5ECF6",
              "width": 0.5
             },
             "pattern": {
              "fillmode": "overlay",
              "size": 10,
              "solidity": 0.2
             }
            },
            "type": "barpolar"
           }
          ],
          "carpet": [
           {
            "aaxis": {
             "endlinecolor": "#2a3f5f",
             "gridcolor": "white",
             "linecolor": "white",
             "minorgridcolor": "white",
             "startlinecolor": "#2a3f5f"
            },
            "baxis": {
             "endlinecolor": "#2a3f5f",
             "gridcolor": "white",
             "linecolor": "white",
             "minorgridcolor": "white",
             "startlinecolor": "#2a3f5f"
            },
            "type": "carpet"
           }
          ],
          "choropleth": [
           {
            "colorbar": {
             "outlinewidth": 0,
             "ticks": ""
            },
            "type": "choropleth"
           }
          ],
          "contour": [
           {
            "colorbar": {
             "outlinewidth": 0,
             "ticks": ""
            },
            "colorscale": [
             [
              0,
              "#0d0887"
             ],
             [
              0.1111111111111111,
              "#46039f"
             ],
             [
              0.2222222222222222,
              "#7201a8"
             ],
             [
              0.3333333333333333,
              "#9c179e"
             ],
             [
              0.4444444444444444,
              "#bd3786"
             ],
             [
              0.5555555555555556,
              "#d8576b"
             ],
             [
              0.6666666666666666,
              "#ed7953"
             ],
             [
              0.7777777777777778,
              "#fb9f3a"
             ],
             [
              0.8888888888888888,
              "#fdca26"
             ],
             [
              1,
              "#f0f921"
             ]
            ],
            "type": "contour"
           }
          ],
          "contourcarpet": [
           {
            "colorbar": {
             "outlinewidth": 0,
             "ticks": ""
            },
            "type": "contourcarpet"
           }
          ],
          "heatmap": [
           {
            "colorbar": {
             "outlinewidth": 0,
             "ticks": ""
            },
            "colorscale": [
             [
              0,
              "#0d0887"
             ],
             [
              0.1111111111111111,
              "#46039f"
             ],
             [
              0.2222222222222222,
              "#7201a8"
             ],
             [
              0.3333333333333333,
              "#9c179e"
             ],
             [
              0.4444444444444444,
              "#bd3786"
             ],
             [
              0.5555555555555556,
              "#d8576b"
             ],
             [
              0.6666666666666666,
              "#ed7953"
             ],
             [
              0.7777777777777778,
              "#fb9f3a"
             ],
             [
              0.8888888888888888,
              "#fdca26"
             ],
             [
              1,
              "#f0f921"
             ]
            ],
            "type": "heatmap"
           }
          ],
          "heatmapgl": [
           {
            "colorbar": {
             "outlinewidth": 0,
             "ticks": ""
            },
            "colorscale": [
             [
              0,
              "#0d0887"
             ],
             [
              0.1111111111111111,
              "#46039f"
             ],
             [
              0.2222222222222222,
              "#7201a8"
             ],
             [
              0.3333333333333333,
              "#9c179e"
             ],
             [
              0.4444444444444444,
              "#bd3786"
             ],
             [
              0.5555555555555556,
              "#d8576b"
             ],
             [
              0.6666666666666666,
              "#ed7953"
             ],
             [
              0.7777777777777778,
              "#fb9f3a"
             ],
             [
              0.8888888888888888,
              "#fdca26"
             ],
             [
              1,
              "#f0f921"
             ]
            ],
            "type": "heatmapgl"
           }
          ],
          "histogram": [
           {
            "marker": {
             "pattern": {
              "fillmode": "overlay",
              "size": 10,
              "solidity": 0.2
             }
            },
            "type": "histogram"
           }
          ],
          "histogram2d": [
           {
            "colorbar": {
             "outlinewidth": 0,
             "ticks": ""
            },
            "colorscale": [
             [
              0,
              "#0d0887"
             ],
             [
              0.1111111111111111,
              "#46039f"
             ],
             [
              0.2222222222222222,
              "#7201a8"
             ],
             [
              0.3333333333333333,
              "#9c179e"
             ],
             [
              0.4444444444444444,
              "#bd3786"
             ],
             [
              0.5555555555555556,
              "#d8576b"
             ],
             [
              0.6666666666666666,
              "#ed7953"
             ],
             [
              0.7777777777777778,
              "#fb9f3a"
             ],
             [
              0.8888888888888888,
              "#fdca26"
             ],
             [
              1,
              "#f0f921"
             ]
            ],
            "type": "histogram2d"
           }
          ],
          "histogram2dcontour": [
           {
            "colorbar": {
             "outlinewidth": 0,
             "ticks": ""
            },
            "colorscale": [
             [
              0,
              "#0d0887"
             ],
             [
              0.1111111111111111,
              "#46039f"
             ],
             [
              0.2222222222222222,
              "#7201a8"
             ],
             [
              0.3333333333333333,
              "#9c179e"
             ],
             [
              0.4444444444444444,
              "#bd3786"
             ],
             [
              0.5555555555555556,
              "#d8576b"
             ],
             [
              0.6666666666666666,
              "#ed7953"
             ],
             [
              0.7777777777777778,
              "#fb9f3a"
             ],
             [
              0.8888888888888888,
              "#fdca26"
             ],
             [
              1,
              "#f0f921"
             ]
            ],
            "type": "histogram2dcontour"
           }
          ],
          "mesh3d": [
           {
            "colorbar": {
             "outlinewidth": 0,
             "ticks": ""
            },
            "type": "mesh3d"
           }
          ],
          "parcoords": [
           {
            "line": {
             "colorbar": {
              "outlinewidth": 0,
              "ticks": ""
             }
            },
            "type": "parcoords"
           }
          ],
          "pie": [
           {
            "automargin": true,
            "type": "pie"
           }
          ],
          "scatter": [
           {
            "marker": {
             "colorbar": {
              "outlinewidth": 0,
              "ticks": ""
             }
            },
            "type": "scatter"
           }
          ],
          "scatter3d": [
           {
            "line": {
             "colorbar": {
              "outlinewidth": 0,
              "ticks": ""
             }
            },
            "marker": {
             "colorbar": {
              "outlinewidth": 0,
              "ticks": ""
             }
            },
            "type": "scatter3d"
           }
          ],
          "scattercarpet": [
           {
            "marker": {
             "colorbar": {
              "outlinewidth": 0,
              "ticks": ""
             }
            },
            "type": "scattercarpet"
           }
          ],
          "scattergeo": [
           {
            "marker": {
             "colorbar": {
              "outlinewidth": 0,
              "ticks": ""
             }
            },
            "type": "scattergeo"
           }
          ],
          "scattergl": [
           {
            "marker": {
             "colorbar": {
              "outlinewidth": 0,
              "ticks": ""
             }
            },
            "type": "scattergl"
           }
          ],
          "scattermapbox": [
           {
            "marker": {
             "colorbar": {
              "outlinewidth": 0,
              "ticks": ""
             }
            },
            "type": "scattermapbox"
           }
          ],
          "scatterpolar": [
           {
            "marker": {
             "colorbar": {
              "outlinewidth": 0,
              "ticks": ""
             }
            },
            "type": "scatterpolar"
           }
          ],
          "scatterpolargl": [
           {
            "marker": {
             "colorbar": {
              "outlinewidth": 0,
              "ticks": ""
             }
            },
            "type": "scatterpolargl"
           }
          ],
          "scatterternary": [
           {
            "marker": {
             "colorbar": {
              "outlinewidth": 0,
              "ticks": ""
             }
            },
            "type": "scatterternary"
           }
          ],
          "surface": [
           {
            "colorbar": {
             "outlinewidth": 0,
             "ticks": ""
            },
            "colorscale": [
             [
              0,
              "#0d0887"
             ],
             [
              0.1111111111111111,
              "#46039f"
             ],
             [
              0.2222222222222222,
              "#7201a8"
             ],
             [
              0.3333333333333333,
              "#9c179e"
             ],
             [
              0.4444444444444444,
              "#bd3786"
             ],
             [
              0.5555555555555556,
              "#d8576b"
             ],
             [
              0.6666666666666666,
              "#ed7953"
             ],
             [
              0.7777777777777778,
              "#fb9f3a"
             ],
             [
              0.8888888888888888,
              "#fdca26"
             ],
             [
              1,
              "#f0f921"
             ]
            ],
            "type": "surface"
           }
          ],
          "table": [
           {
            "cells": {
             "fill": {
              "color": "#EBF0F8"
             },
             "line": {
              "color": "white"
             }
            },
            "header": {
             "fill": {
              "color": "#C8D4E3"
             },
             "line": {
              "color": "white"
             }
            },
            "type": "table"
           }
          ]
         },
         "layout": {
          "annotationdefaults": {
           "arrowcolor": "#2a3f5f",
           "arrowhead": 0,
           "arrowwidth": 1
          },
          "autotypenumbers": "strict",
          "coloraxis": {
           "colorbar": {
            "outlinewidth": 0,
            "ticks": ""
           }
          },
          "colorscale": {
           "diverging": [
            [
             0,
             "#8e0152"
            ],
            [
             0.1,
             "#c51b7d"
            ],
            [
             0.2,
             "#de77ae"
            ],
            [
             0.3,
             "#f1b6da"
            ],
            [
             0.4,
             "#fde0ef"
            ],
            [
             0.5,
             "#f7f7f7"
            ],
            [
             0.6,
             "#e6f5d0"
            ],
            [
             0.7,
             "#b8e186"
            ],
            [
             0.8,
             "#7fbc41"
            ],
            [
             0.9,
             "#4d9221"
            ],
            [
             1,
             "#276419"
            ]
           ],
           "sequential": [
            [
             0,
             "#0d0887"
            ],
            [
             0.1111111111111111,
             "#46039f"
            ],
            [
             0.2222222222222222,
             "#7201a8"
            ],
            [
             0.3333333333333333,
             "#9c179e"
            ],
            [
             0.4444444444444444,
             "#bd3786"
            ],
            [
             0.5555555555555556,
             "#d8576b"
            ],
            [
             0.6666666666666666,
             "#ed7953"
            ],
            [
             0.7777777777777778,
             "#fb9f3a"
            ],
            [
             0.8888888888888888,
             "#fdca26"
            ],
            [
             1,
             "#f0f921"
            ]
           ],
           "sequentialminus": [
            [
             0,
             "#0d0887"
            ],
            [
             0.1111111111111111,
             "#46039f"
            ],
            [
             0.2222222222222222,
             "#7201a8"
            ],
            [
             0.3333333333333333,
             "#9c179e"
            ],
            [
             0.4444444444444444,
             "#bd3786"
            ],
            [
             0.5555555555555556,
             "#d8576b"
            ],
            [
             0.6666666666666666,
             "#ed7953"
            ],
            [
             0.7777777777777778,
             "#fb9f3a"
            ],
            [
             0.8888888888888888,
             "#fdca26"
            ],
            [
             1,
             "#f0f921"
            ]
           ]
          },
          "colorway": [
           "#636efa",
           "#EF553B",
           "#00cc96",
           "#ab63fa",
           "#FFA15A",
           "#19d3f3",
           "#FF6692",
           "#B6E880",
           "#FF97FF",
           "#FECB52"
          ],
          "font": {
           "color": "#2a3f5f"
          },
          "geo": {
           "bgcolor": "white",
           "lakecolor": "white",
           "landcolor": "#E5ECF6",
           "showlakes": true,
           "showland": true,
           "subunitcolor": "white"
          },
          "hoverlabel": {
           "align": "left"
          },
          "hovermode": "closest",
          "mapbox": {
           "style": "light"
          },
          "paper_bgcolor": "white",
          "plot_bgcolor": "#E5ECF6",
          "polar": {
           "angularaxis": {
            "gridcolor": "white",
            "linecolor": "white",
            "ticks": ""
           },
           "bgcolor": "#E5ECF6",
           "radialaxis": {
            "gridcolor": "white",
            "linecolor": "white",
            "ticks": ""
           }
          },
          "scene": {
           "xaxis": {
            "backgroundcolor": "#E5ECF6",
            "gridcolor": "white",
            "gridwidth": 2,
            "linecolor": "white",
            "showbackground": true,
            "ticks": "",
            "zerolinecolor": "white"
           },
           "yaxis": {
            "backgroundcolor": "#E5ECF6",
            "gridcolor": "white",
            "gridwidth": 2,
            "linecolor": "white",
            "showbackground": true,
            "ticks": "",
            "zerolinecolor": "white"
           },
           "zaxis": {
            "backgroundcolor": "#E5ECF6",
            "gridcolor": "white",
            "gridwidth": 2,
            "linecolor": "white",
            "showbackground": true,
            "ticks": "",
            "zerolinecolor": "white"
           }
          },
          "shapedefaults": {
           "line": {
            "color": "#2a3f5f"
           }
          },
          "ternary": {
           "aaxis": {
            "gridcolor": "white",
            "linecolor": "white",
            "ticks": ""
           },
           "baxis": {
            "gridcolor": "white",
            "linecolor": "white",
            "ticks": ""
           },
           "bgcolor": "#E5ECF6",
           "caxis": {
            "gridcolor": "white",
            "linecolor": "white",
            "ticks": ""
           }
          },
          "title": {
           "x": 0.05
          },
          "xaxis": {
           "automargin": true,
           "gridcolor": "white",
           "linecolor": "white",
           "ticks": "",
           "title": {
            "standoff": 15
           },
           "zerolinecolor": "white",
           "zerolinewidth": 2
          },
          "yaxis": {
           "automargin": true,
           "gridcolor": "white",
           "linecolor": "white",
           "ticks": "",
           "title": {
            "standoff": 15
           },
           "zerolinecolor": "white",
           "zerolinewidth": 2
          }
         }
        },
        "xaxis": {
         "anchor": "y",
         "categoryarray": [
          1,
          0
         ],
         "categoryorder": "array",
         "domain": [
          0,
          1
         ],
         "title": {
          "text": "So"
         }
        },
        "yaxis": {
         "anchor": "x",
         "domain": [
          0,
          1
         ],
         "title": {
          "text": "Crime"
         }
        }
       }
      }
     },
     "metadata": {},
     "output_type": "display_data"
    }
   ],
   "source": [
    "fig = px.bar(df_crimes, x='So', y='Crime', barmode='group', color='So')\n",
    "fig.show()"
   ]
  },
  {
   "cell_type": "markdown",
   "metadata": {},
   "source": [
    "The above bar plot shows that where `So` is $0$, the total amount of Crime rate is higher. From the dataset description is not clear if `So` equals $0$ means it is not a southern state, or otherwise."
   ]
  },
  {
   "cell_type": "markdown",
   "metadata": {},
   "source": [
    "Initially, we can assume we have 15 independent variables `(M, So, Ed, Po1, Po2, LF, M.F, Pop, NW, U1, U2, Wealth, Ineq, Prob, Time)`, and a dependent variable `Crime`.\n",
    "\n",
    "The heatmap is a good way to visualize the cross-correlation of the variables. The correlation analysis indicates there might be dependencies between variables, and then it is possible to apply a dimensionality reduction, or even eliminating one of the variables if the correlation is too strong."
   ]
  },
  {
   "cell_type": "code",
   "execution_count": 8,
   "metadata": {},
   "outputs": [
    {
     "data": {
      "image/png": "[encoded data removed]",
      "text/plain": [
       "<Figure size 1080x936 with 2 Axes>"
      ]
     },
     "metadata": {
      "needs_background": "light"
     },
     "output_type": "display_data"
    }
   ],
   "source": [
    "fig, ax = plt.subplots(figsize=(15,13))\n",
    "\n",
    "corr_crimes = df_crimes.corr()\n",
    "\n",
    "sns.heatmap(corr_crimes, vmin=-1.0, vmax=1.0, center=0.0, fmt='.2f',\n",
    "                square=True, linewidths=0.5, annot=True, cmap='YlGnBu')\n",
    "\n",
    "plt.yticks(rotation=0)\n",
    "plt.show()"
   ]
  },
  {
   "cell_type": "markdown",
   "metadata": {},
   "source": [
    "The heatmap above shows the pearson correlation between variables, which varies from -1.0 (negative correlation) to 1.0 (positive correlation):\n",
    "- Negative Correlation: variables behave in the opposite direction, while variable A is increasing, variable B is decreasing.\n",
    "- Positive Correlation: both variables A and B behave in the same direction, such that when A increases, B increases as well.\n",
    "- No Correlation (values close to 0.0): there is no relationship between the variables A and B.   \n",
    "\n",
    "We can see that some variables have a strong positive correlation between each other, below is an enumeration of set of variables that present some significant correlation value:\n",
    "- `Po1` and `Po2` have positive correlation of 0.99.\n",
    "- `Wealth` and `Ed`, `Wealth` and `Po1`, `Wealth` and `Po2` have positive correlations, respectively, 0.74, 0.79, 0.79.\n",
    "- `NW` and `So` have a correlation of 0.77.\n",
    "- `Ineq` and `Ed` have a negative correlation of -0.77.\n",
    "- `Wealth` and `Ineq` have a negative correlation of -0.88.\n",
    "- `U1` and `U2` have a positive correlation of 0.75.\n",
    "\n",
    "\n",
    "\n",
    "At this point the idea is not to explain why these behaviours happen, but to point out what we can see from the data. Nevertheless, `Po1` and `Po2` high correlation is due to the fact that the values of both columns are pretty much the same. This aspect is shown on the Figure below, where the linear relationship between `Po1` and `Po2` is rather clear. Because of the linear relation between theses two variables, we will continue the analysis considering only `Po1`. Another reason to keep only `Po1` instead of `Po2` is that `Po1` correlation with `Crime` is greater than the correlation of `Po2` and `Crime`."
   ]
  },
  {
   "cell_type": "code",
   "execution_count": 9,
   "metadata": {},
   "outputs": [
    {
     "data": {
      "application/vnd.plotly.v1+json": {
       "config": {
        "plotlyServerURL": "https://plot.ly"
       },
       "data": [
        {
         "hovertemplate": "Po1=%{x}<br>Po2=%{y}<extra></extra>",
         "legendgroup": "",
         "marker": {
          "color": "#636efa",
          "symbol": "circle"
         },
         "mode": "markers",
         "name": "",
         "orientation": "v",
         "showlegend": false,
         "type": "scatter",
         "x": [
          5.8,
          10.3,
          4.5,
          14.9,
          10.9,
          11.8,
          8.2,
          11.5,
          6.5,
          7.1,
          12.1,
          7.5,
          6.7,
          6.2,
          5.7,
          8.1,
          6.6,
          12.3,
          12.8,
          11.3,
          7.4,
          4.7,
          8.7,
          7.8,
          6.3,
          16,
          6.9,
          8.2,
          16.6,
          5.8,
          5.5,
          9,
          6.3,
          9.7,
          9.7,
          10.9,
          5.8,
          5.1,
          6.1,
          8.2,
          7.2,
          5.6,
          7.5,
          9.5,
          4.6,
          10.6,
          9
         ],
         "xaxis": "x",
         "y": [
          5.6,
          9.5,
          4.4,
          14.1,
          10.1,
          11.5,
          7.9,
          10.9,
          6.2,
          6.8,
          11.6,
          7.1,
          6,
          6.1,
          5.3,
          7.7,
          6.3,
          11.5,
          12.8,
          10.5,
          6.7,
          4.4,
          8.3,
          7.3,
          5.7,
          14.3,
          7.1,
          7.6,
          15.7,
          5.4,
          5.4,
          8.1,
          6.4,
          9.7,
          8.7,
          9.8,
          5.6,
          4.7,
          5.4,
          7.4,
          6.6,
          5.4,
          7,
          9.6,
          4.1,
          9.7,
          9.1
         ],
         "yaxis": "y"
        },
        {
         "hovertemplate": "<b>OLS trendline</b><br>Po2 = 0.934823 * Po1 + 0.0774064<br>R<sup>2</sup>=0.987214<br><br>Po1=%{x}<br>Po2=%{y} <b>(trend)</b><extra></extra>",
         "legendgroup": "",
         "marker": {
          "color": "#636efa",
          "symbol": "circle"
         },
         "mode": "lines",
         "name": "",
         "showlegend": false,
         "type": "scatter",
         "x": [
          4.5,
          4.6,
          4.7,
          5.1,
          5.5,
          5.6,
          5.7,
          5.8,
          5.8,
          5.8,
          6.1,
          6.2,
          6.3,
          6.3,
          6.5,
          6.6,
          6.7,
          6.9,
          7.1,
          7.2,
          7.4,
          7.5,
          7.5,
          7.8,
          8.1,
          8.2,
          8.2,
          8.2,
          8.7,
          9,
          9,
          9.5,
          9.7,
          9.7,
          10.3,
          10.6,
          10.9,
          10.9,
          11.3,
          11.5,
          11.8,
          12.1,
          12.3,
          12.8,
          14.9,
          16,
          16.6
         ],
         "xaxis": "x",
         "y": [
          4.284111156963336,
          4.377593484422231,
          4.471075811881127,
          4.845005121716708,
          5.21893443155229,
          5.312416759011185,
          5.405899086470081,
          5.499381413928976,
          5.499381413928976,
          5.499381413928976,
          5.779828396305662,
          5.873310723764558,
          5.966793051223453,
          5.966793051223453,
          6.153757706141244,
          6.247240033600139,
          6.340722361059035,
          6.527687015976825,
          6.714651670894616,
          6.808133998353512,
          6.995098653271302,
          7.088580980730198,
          7.088580980730198,
          7.369027963106884,
          7.64947494548357,
          7.742957272942465,
          7.742957272942465,
          7.742957272942465,
          8.210368910236943,
          8.490815892613629,
          8.490815892613629,
          8.958227529908106,
          9.145192184825897,
          9.145192184825897,
          9.706086149579269,
          9.986533131955955,
          10.266980114332641,
          10.266980114332641,
          10.640909424168223,
          10.827874079086014,
          11.1083210614627,
          11.388768043839386,
          11.575732698757177,
          12.043144336051654,
          14.006273212688457,
          15.034578814736307,
          15.59547277948968
         ],
         "yaxis": "y"
        }
       ],
       "layout": {
        "legend": {
         "tracegroupgap": 0
        },
        "margin": {
         "t": 60
        },
        "template": {
         "data": {
          "bar": [
           {
            "error_x": {
             "color": "#2a3f5f"
            },
            "error_y": {
             "color": "#2a3f5f"
            },
            "marker": {
             "line": {
              "color": "#E5ECF6",
              "width": 0.5
             },
             "pattern": {
              "fillmode": "overlay",
              "size": 10,
              "solidity": 0.2
             }
            },
            "type": "bar"
           }
          ],
          "barpolar": [
           {
            "marker": {
             "line": {
              "color": "#E5ECF6",
              "width": 0.5
             },
             "pattern": {
              "fillmode": "overlay",
              "size": 10,
              "solidity": 0.2
             }
            },
            "type": "barpolar"
           }
          ],
          "carpet": [
           {
            "aaxis": {
             "endlinecolor": "#2a3f5f",
             "gridcolor": "white",
             "linecolor": "white",
             "minorgridcolor": "white",
             "startlinecolor": "#2a3f5f"
            },
            "baxis": {
             "endlinecolor": "#2a3f5f",
             "gridcolor": "white",
             "linecolor": "white",
             "minorgridcolor": "white",
             "startlinecolor": "#2a3f5f"
            },
            "type": "carpet"
           }
          ],
          "choropleth": [
           {
            "colorbar": {
             "outlinewidth": 0,
             "ticks": ""
            },
            "type": "choropleth"
           }
          ],
          "contour": [
           {
            "colorbar": {
             "outlinewidth": 0,
             "ticks": ""
            },
            "colorscale": [
             [
              0,
              "#0d0887"
             ],
             [
              0.1111111111111111,
              "#46039f"
             ],
             [
              0.2222222222222222,
              "#7201a8"
             ],
             [
              0.3333333333333333,
              "#9c179e"
             ],
             [
              0.4444444444444444,
              "#bd3786"
             ],
             [
              0.5555555555555556,
              "#d8576b"
             ],
             [
              0.6666666666666666,
              "#ed7953"
             ],
             [
              0.7777777777777778,
              "#fb9f3a"
             ],
             [
              0.8888888888888888,
              "#fdca26"
             ],
             [
              1,
              "#f0f921"
             ]
            ],
            "type": "contour"
           }
          ],
          "contourcarpet": [
           {
            "colorbar": {
             "outlinewidth": 0,
             "ticks": ""
            },
            "type": "contourcarpet"
           }
          ],
          "heatmap": [
           {
            "colorbar": {
             "outlinewidth": 0,
             "ticks": ""
            },
            "colorscale": [
             [
              0,
              "#0d0887"
             ],
             [
              0.1111111111111111,
              "#46039f"
             ],
             [
              0.2222222222222222,
              "#7201a8"
             ],
             [
              0.3333333333333333,
              "#9c179e"
             ],
             [
              0.4444444444444444,
              "#bd3786"
             ],
             [
              0.5555555555555556,
              "#d8576b"
             ],
             [
              0.6666666666666666,
              "#ed7953"
             ],
             [
              0.7777777777777778,
              "#fb9f3a"
             ],
             [
              0.8888888888888888,
              "#fdca26"
             ],
             [
              1,
              "#f0f921"
             ]
            ],
            "type": "heatmap"
           }
          ],
          "heatmapgl": [
           {
            "colorbar": {
             "outlinewidth": 0,
             "ticks": ""
            },
            "colorscale": [
             [
              0,
              "#0d0887"
             ],
             [
              0.1111111111111111,
              "#46039f"
             ],
             [
              0.2222222222222222,
              "#7201a8"
             ],
             [
              0.3333333333333333,
              "#9c179e"
             ],
             [
              0.4444444444444444,
              "#bd3786"
             ],
             [
              0.5555555555555556,
              "#d8576b"
             ],
             [
              0.6666666666666666,
              "#ed7953"
             ],
             [
              0.7777777777777778,
              "#fb9f3a"
             ],
             [
              0.8888888888888888,
              "#fdca26"
             ],
             [
              1,
              "#f0f921"
             ]
            ],
            "type": "heatmapgl"
           }
          ],
          "histogram": [
           {
            "marker": {
             "pattern": {
              "fillmode": "overlay",
              "size": 10,
              "solidity": 0.2
             }
            },
            "type": "histogram"
           }
          ],
          "histogram2d": [
           {
            "colorbar": {
             "outlinewidth": 0,
             "ticks": ""
            },
            "colorscale": [
             [
              0,
              "#0d0887"
             ],
             [
              0.1111111111111111,
              "#46039f"
             ],
             [
              0.2222222222222222,
              "#7201a8"
             ],
             [
              0.3333333333333333,
              "#9c179e"
             ],
             [
              0.4444444444444444,
              "#bd3786"
             ],
             [
              0.5555555555555556,
              "#d8576b"
             ],
             [
              0.6666666666666666,
              "#ed7953"
             ],
             [
              0.7777777777777778,
              "#fb9f3a"
             ],
             [
              0.8888888888888888,
              "#fdca26"
             ],
             [
              1,
              "#f0f921"
             ]
            ],
            "type": "histogram2d"
           }
          ],
          "histogram2dcontour": [
           {
            "colorbar": {
             "outlinewidth": 0,
             "ticks": ""
            },
            "colorscale": [
             [
              0,
              "#0d0887"
             ],
             [
              0.1111111111111111,
              "#46039f"
             ],
             [
              0.2222222222222222,
              "#7201a8"
             ],
             [
              0.3333333333333333,
              "#9c179e"
             ],
             [
              0.4444444444444444,
              "#bd3786"
             ],
             [
              0.5555555555555556,
              "#d8576b"
             ],
             [
              0.6666666666666666,
              "#ed7953"
             ],
             [
              0.7777777777777778,
              "#fb9f3a"
             ],
             [
              0.8888888888888888,
              "#fdca26"
             ],
             [
              1,
              "#f0f921"
             ]
            ],
            "type": "histogram2dcontour"
           }
          ],
          "mesh3d": [
           {
            "colorbar": {
             "outlinewidth": 0,
             "ticks": ""
            },
            "type": "mesh3d"
           }
          ],
          "parcoords": [
           {
            "line": {
             "colorbar": {
              "outlinewidth": 0,
              "ticks": ""
             }
            },
            "type": "parcoords"
           }
          ],
          "pie": [
           {
            "automargin": true,
            "type": "pie"
           }
          ],
          "scatter": [
           {
            "marker": {
             "colorbar": {
              "outlinewidth": 0,
              "ticks": ""
             }
            },
            "type": "scatter"
           }
          ],
          "scatter3d": [
           {
            "line": {
             "colorbar": {
              "outlinewidth": 0,
              "ticks": ""
             }
            },
            "marker": {
             "colorbar": {
              "outlinewidth": 0,
              "ticks": ""
             }
            },
            "type": "scatter3d"
           }
          ],
          "scattercarpet": [
           {
            "marker": {
             "colorbar": {
              "outlinewidth": 0,
              "ticks": ""
             }
            },
            "type": "scattercarpet"
           }
          ],
          "scattergeo": [
           {
            "marker": {
             "colorbar": {
              "outlinewidth": 0,
              "ticks": ""
             }
            },
            "type": "scattergeo"
           }
          ],
          "scattergl": [
           {
            "marker": {
             "colorbar": {
              "outlinewidth": 0,
              "ticks": ""
             }
            },
            "type": "scattergl"
           }
          ],
          "scattermapbox": [
           {
            "marker": {
             "colorbar": {
              "outlinewidth": 0,
              "ticks": ""
             }
            },
            "type": "scattermapbox"
           }
          ],
          "scatterpolar": [
           {
            "marker": {
             "colorbar": {
              "outlinewidth": 0,
              "ticks": ""
             }
            },
            "type": "scatterpolar"
           }
          ],
          "scatterpolargl": [
           {
            "marker": {
             "colorbar": {
              "outlinewidth": 0,
              "ticks": ""
             }
            },
            "type": "scatterpolargl"
           }
          ],
          "scatterternary": [
           {
            "marker": {
             "colorbar": {
              "outlinewidth": 0,
              "ticks": ""
             }
            },
            "type": "scatterternary"
           }
          ],
          "surface": [
           {
            "colorbar": {
             "outlinewidth": 0,
             "ticks": ""
            },
            "colorscale": [
             [
              0,
              "#0d0887"
             ],
             [
              0.1111111111111111,
              "#46039f"
             ],
             [
              0.2222222222222222,
              "#7201a8"
             ],
             [
              0.3333333333333333,
              "#9c179e"
             ],
             [
              0.4444444444444444,
              "#bd3786"
             ],
             [
              0.5555555555555556,
              "#d8576b"
             ],
             [
              0.6666666666666666,
              "#ed7953"
             ],
             [
              0.7777777777777778,
              "#fb9f3a"
             ],
             [
              0.8888888888888888,
              "#fdca26"
             ],
             [
              1,
              "#f0f921"
             ]
            ],
            "type": "surface"
           }
          ],
          "table": [
           {
            "cells": {
             "fill": {
              "color": "#EBF0F8"
             },
             "line": {
              "color": "white"
             }
            },
            "header": {
             "fill": {
              "color": "#C8D4E3"
             },
             "line": {
              "color": "white"
             }
            },
            "type": "table"
           }
          ]
         },
         "layout": {
          "annotationdefaults": {
           "arrowcolor": "#2a3f5f",
           "arrowhead": 0,
           "arrowwidth": 1
          },
          "autotypenumbers": "strict",
          "coloraxis": {
           "colorbar": {
            "outlinewidth": 0,
            "ticks": ""
           }
          },
          "colorscale": {
           "diverging": [
            [
             0,
             "#8e0152"
            ],
            [
             0.1,
             "#c51b7d"
            ],
            [
             0.2,
             "#de77ae"
            ],
            [
             0.3,
             "#f1b6da"
            ],
            [
             0.4,
             "#fde0ef"
            ],
            [
             0.5,
             "#f7f7f7"
            ],
            [
             0.6,
             "#e6f5d0"
            ],
            [
             0.7,
             "#b8e186"
            ],
            [
             0.8,
             "#7fbc41"
            ],
            [
             0.9,
             "#4d9221"
            ],
            [
             1,
             "#276419"
            ]
           ],
           "sequential": [
            [
             0,
             "#0d0887"
            ],
            [
             0.1111111111111111,
             "#46039f"
            ],
            [
             0.2222222222222222,
             "#7201a8"
            ],
            [
             0.3333333333333333,
             "#9c179e"
            ],
            [
             0.4444444444444444,
             "#bd3786"
            ],
            [
             0.5555555555555556,
             "#d8576b"
            ],
            [
             0.6666666666666666,
             "#ed7953"
            ],
            [
             0.7777777777777778,
             "#fb9f3a"
            ],
            [
             0.8888888888888888,
             "#fdca26"
            ],
            [
             1,
             "#f0f921"
            ]
           ],
           "sequentialminus": [
            [
             0,
             "#0d0887"
            ],
            [
             0.1111111111111111,
             "#46039f"
            ],
            [
             0.2222222222222222,
             "#7201a8"
            ],
            [
             0.3333333333333333,
             "#9c179e"
            ],
            [
             0.4444444444444444,
             "#bd3786"
            ],
            [
             0.5555555555555556,
             "#d8576b"
            ],
            [
             0.6666666666666666,
             "#ed7953"
            ],
            [
             0.7777777777777778,
             "#fb9f3a"
            ],
            [
             0.8888888888888888,
             "#fdca26"
            ],
            [
             1,
             "#f0f921"
            ]
           ]
          },
          "colorway": [
           "#636efa",
           "#EF553B",
           "#00cc96",
           "#ab63fa",
           "#FFA15A",
           "#19d3f3",
           "#FF6692",
           "#B6E880",
           "#FF97FF",
           "#FECB52"
          ],
          "font": {
           "color": "#2a3f5f"
          },
          "geo": {
           "bgcolor": "white",
           "lakecolor": "white",
           "landcolor": "#E5ECF6",
           "showlakes": true,
           "showland": true,
           "subunitcolor": "white"
          },
          "hoverlabel": {
           "align": "left"
          },
          "hovermode": "closest",
          "mapbox": {
           "style": "light"
          },
          "paper_bgcolor": "white",
          "plot_bgcolor": "#E5ECF6",
          "polar": {
           "angularaxis": {
            "gridcolor": "white",
            "linecolor": "white",
            "ticks": ""
           },
           "bgcolor": "#E5ECF6",
           "radialaxis": {
            "gridcolor": "white",
            "linecolor": "white",
            "ticks": ""
           }
          },
          "scene": {
           "xaxis": {
            "backgroundcolor": "#E5ECF6",
            "gridcolor": "white",
            "gridwidth": 2,
            "linecolor": "white",
            "showbackground": true,
            "ticks": "",
            "zerolinecolor": "white"
           },
           "yaxis": {
            "backgroundcolor": "#E5ECF6",
            "gridcolor": "white",
            "gridwidth": 2,
            "linecolor": "white",
            "showbackground": true,
            "ticks": "",
            "zerolinecolor": "white"
           },
           "zaxis": {
            "backgroundcolor": "#E5ECF6",
            "gridcolor": "white",
            "gridwidth": 2,
            "linecolor": "white",
            "showbackground": true,
            "ticks": "",
            "zerolinecolor": "white"
           }
          },
          "shapedefaults": {
           "line": {
            "color": "#2a3f5f"
           }
          },
          "ternary": {
           "aaxis": {
            "gridcolor": "white",
            "linecolor": "white",
            "ticks": ""
           },
           "baxis": {
            "gridcolor": "white",
            "linecolor": "white",
            "ticks": ""
           },
           "bgcolor": "#E5ECF6",
           "caxis": {
            "gridcolor": "white",
            "linecolor": "white",
            "ticks": ""
           }
          },
          "title": {
           "x": 0.05
          },
          "xaxis": {
           "automargin": true,
           "gridcolor": "white",
           "linecolor": "white",
           "ticks": "",
           "title": {
            "standoff": 15
           },
           "zerolinecolor": "white",
           "zerolinewidth": 2
          },
          "yaxis": {
           "automargin": true,
           "gridcolor": "white",
           "linecolor": "white",
           "ticks": "",
           "title": {
            "standoff": 15
           },
           "zerolinecolor": "white",
           "zerolinewidth": 2
          }
         }
        },
        "title": {
         "text": "Po1 vs Po2"
        },
        "xaxis": {
         "anchor": "y",
         "domain": [
          0,
          1
         ],
         "title": {
          "text": "Po1"
         }
        },
        "yaxis": {
         "anchor": "x",
         "domain": [
          0,
          1
         ],
         "title": {
          "text": "Po2"
         }
        }
       }
      }
     },
     "metadata": {},
     "output_type": "display_data"
    }
   ],
   "source": [
    "fig = px.scatter(df_crimes, x='Po1', y='Po2', trendline='ols')\n",
    "fig.update_layout(title='Po1 vs Po2')\n",
    "fig.show()"
   ]
  },
  {
   "cell_type": "markdown",
   "metadata": {},
   "source": [
    "In the following Figure, we will look at the relationship of `Wealth` and the variables `Ed`, `Po1`, `Ineq` and `M`. "
   ]
  },
  {
   "cell_type": "code",
   "execution_count": 10,
   "metadata": {},
   "outputs": [
    {
     "data": {
      "image/png": "[encoded data removed]",
      "text/plain": [
       "<Figure size 936x504 with 4 Axes>"
      ]
     },
     "metadata": {
      "needs_background": "light"
     },
     "output_type": "display_data"
    }
   ],
   "source": [
    "fig = plt.figure(figsize=(13,7))\n",
    "gs = mpl.gridspec.GridSpec(2,2, figure=fig)\n",
    "\n",
    "ax0 = fig.add_subplot(gs[0,0])\n",
    "ax0 = sns.scatterplot(x='Ed', y='Wealth', data=df_crimes)\n",
    "ax0.set_title(\"Scatterplot Wealth X Ed\")\n",
    "\n",
    "ax1 = fig.add_subplot(gs[0,1])\n",
    "ax1 = sns.scatterplot(x='Po1', y='Wealth', data=df_crimes)\n",
    "ax1.set_title(\"Scatterplot Wealth X Po1\")\n",
    "\n",
    "ax2 = fig.add_subplot(gs[1,0])\n",
    "ax2 = sns.scatterplot(x='Ineq', y='Wealth', data=df_crimes)\n",
    "ax2.set_title(\"Scatterplot Wealth X Ineq\")\n",
    "\n",
    "ax3 = fig.add_subplot(gs[1,1])\n",
    "ax3 = sns.scatterplot(x='M', y='Wealth', data=df_crimes)\n",
    "ax3.set_title(\"Scatterplot Wealth X M\")\n",
    "\n",
    "plt.tight_layout()\n",
    "plt.show()"
   ]
  },
  {
   "cell_type": "markdown",
   "metadata": {},
   "source": [
    "The top graphs show that `Wealth` increase as `Ed` and `Po1` increase, while `Wealth` decreases as `Ineq` and `M` increase. Theses trends are very subtle in all four cases, but it matches exactly what we got from the correlation map. \n",
    "\n",
    "We can also have a look at the distribution of crime rates."
   ]
  },
  {
   "cell_type": "code",
   "execution_count": 11,
   "metadata": {},
   "outputs": [
    {
     "data": {
      "image/png": "[encoded data removed]",
      "text/plain": [
       "<Figure size 936x504 with 2 Axes>"
      ]
     },
     "metadata": {
      "needs_background": "light"
     },
     "output_type": "display_data"
    }
   ],
   "source": [
    "fig = plt.figure(figsize=(13,7))\n",
    "gs = mpl.gridspec.GridSpec(2,1, figure=fig)\n",
    "\n",
    "ax0 = fig.add_subplot(gs[0,0])\n",
    "ax0 = sns.boxplot(x='Crime', data=df_crimes)\n",
    "ax0.set_title(\"Boxplot Crime rates\")\n",
    "\n",
    "ax1 = fig.add_subplot(gs[1,0])\n",
    "ax1 = sns.boxplot(x='Crime', y='So', data=df_crimes)\n",
    "ax1.set_title(\"Boxplot Crime rates by So\")\n",
    "\n",
    "plt.tight_layout()\n",
    "plt.show()"
   ]
  },
  {
   "cell_type": "markdown",
   "metadata": {},
   "source": [
    "`Crime` distribution seems to have only 3 outliers. The Boxplot also show that the median number of offenses per 100000 people is around 800."
   ]
  },
  {
   "cell_type": "markdown",
   "metadata": {},
   "source": [
    "-------\n",
    "# Data Modeling\n",
    "\n",
    "Now at this step we will be testing a few modeling options before making a decision.\n",
    "\n",
    "To tackle this problem we are going to make use of [scikit-learn](https://scikit-learn.org/stable/index.html) module.\n",
    "\n",
    "From the analysis done on data exploration, we will no longer take into consideration the variable `Po2`."
   ]
  },
  {
   "cell_type": "code",
   "execution_count": 12,
   "metadata": {},
   "outputs": [],
   "source": [
    "df_crimes.drop('Po2', axis=1, inplace=True)"
   ]
  },
  {
   "cell_type": "code",
   "execution_count": 13,
   "metadata": {},
   "outputs": [],
   "source": [
    "from sklearn.model_selection import train_test_split\n",
    "from sklearn.pipeline import Pipeline\n",
    "from sklearn.compose import ColumnTransformer\n",
    "from sklearn.preprocessing import StandardScaler, OneHotEncoder\n",
    "from sklearn.linear_model import LinearRegression, ElasticNet\n",
    "from sklearn.metrics import mean_squared_error, r2_score, mean_absolute_error"
   ]
  },
  {
   "cell_type": "markdown",
   "metadata": {},
   "source": [
    "### Multivariate Linear Regression\n",
    "\n",
    "As an initial trial we can think about the relationship between `Crime` and the other variables as a linear relationship.\n",
    "\n",
    "In statistic modeling, whenever we have variables that are in different scale, we transform them to standard score units, also known as z-score. This transformation changes the scale of the variables, so that for each point of each variable the value is dimensionless. By doing so, we avoid scaling and magnitude differences, for instance, if we take `Wealth` and `U1`, `Wealth` maximum is 6890, while `U1` maximum is 0.142, there is a huge magnitude difference, and it can wrongly biases the model in a way it may give `Wealth` more importance than `U1`.\n",
    "\n",
    "In this exercise we will apply standard scale to the variables using the method `StandardScaler` of `scikit-learn`.\n",
    "\n",
    "Below, `to_predict` holds the information of the point we would like to predict the crime rate."
   ]
  },
  {
   "cell_type": "code",
   "execution_count": 14,
   "metadata": {},
   "outputs": [
    {
     "data": {
      "text/html": [
       "<div>\n",
       "<style scoped>\n",
       "    .dataframe tbody tr th:only-of-type {\n",
       "        vertical-align: middle;\n",
       "    }\n",
       "\n",
       "    .dataframe tbody tr th {\n",
       "        vertical-align: top;\n",
       "    }\n",
       "\n",
       "    .dataframe thead th {\n",
       "        text-align: right;\n",
       "    }\n",
       "</style>\n",
       "<table border=\"1\" class=\"dataframe\">\n",
       "  <thead>\n",
       "    <tr style=\"text-align: right;\">\n",
       "      <th></th>\n",
       "      <th>M</th>\n",
       "      <th>So</th>\n",
       "      <th>Ed</th>\n",
       "      <th>Po1</th>\n",
       "      <th>LF</th>\n",
       "      <th>M.F</th>\n",
       "      <th>Pop</th>\n",
       "      <th>NW</th>\n",
       "      <th>U1</th>\n",
       "      <th>U2</th>\n",
       "      <th>Wealth</th>\n",
       "      <th>Ineq</th>\n",
       "      <th>Prob</th>\n",
       "      <th>Time</th>\n",
       "    </tr>\n",
       "  </thead>\n",
       "  <tbody>\n",
       "    <tr>\n",
       "      <th>0</th>\n",
       "      <td>14.0</td>\n",
       "      <td>0.0</td>\n",
       "      <td>10.0</td>\n",
       "      <td>12.0</td>\n",
       "      <td>0.64</td>\n",
       "      <td>94.0</td>\n",
       "      <td>150.0</td>\n",
       "      <td>1.1</td>\n",
       "      <td>0.12</td>\n",
       "      <td>3.6</td>\n",
       "      <td>3200.0</td>\n",
       "      <td>20.1</td>\n",
       "      <td>0.04</td>\n",
       "      <td>39.0</td>\n",
       "    </tr>\n",
       "  </tbody>\n",
       "</table>\n",
       "</div>"
      ],
      "text/plain": [
       "      M   So    Ed   Po1    LF   M.F    Pop   NW    U1   U2  Wealth  Ineq  \\\n",
       "0  14.0  0.0  10.0  12.0  0.64  94.0  150.0  1.1  0.12  3.6  3200.0  20.1   \n",
       "\n",
       "   Prob  Time  \n",
       "0  0.04  39.0  "
      ]
     },
     "execution_count": 14,
     "metadata": {},
     "output_type": "execute_result"
    }
   ],
   "source": [
    "to_predict = pd.DataFrame(np.array([[14.0, 0, 10.0, 12, 0.640, 94, 150, 1.1, 0.120, 3.6, 3200, 20.1, 0.04, 39]]), \n",
    "                          columns=df_crimes.drop('Crime', axis=1).columns.values)\n",
    "to_predict"
   ]
  },
  {
   "cell_type": "code",
   "execution_count": 15,
   "metadata": {},
   "outputs": [],
   "source": [
    "results = {}"
   ]
  },
  {
   "cell_type": "markdown",
   "metadata": {},
   "source": [
    "With `scikit-learn` it is possible to run a set of process using a `Pipeline`, this automizes the transformation with `StandardScaler` and the linear regression."
   ]
  },
  {
   "cell_type": "code",
   "execution_count": 16,
   "metadata": {},
   "outputs": [],
   "source": [
    "numerical_var = [col for col in df_crimes.columns if (col != 'Crime') and (col != 'So')]\n",
    "categorical_var = ['So']\n",
    "\n",
    "numerical_transformer = StandardScaler()\n",
    "categorical_transformer = OneHotEncoder()"
   ]
  },
  {
   "cell_type": "code",
   "execution_count": 17,
   "metadata": {},
   "outputs": [],
   "source": [
    "preprocessor = ColumnTransformer(\n",
    "                    transformers=[\n",
    "                        ('num', numerical_transformer, numerical_var),\n",
    "                        ('cat', categorical_transformer, categorical_var)])"
   ]
  },
  {
   "cell_type": "markdown",
   "metadata": {},
   "source": [
    "We also have to separete the dependent variable from the independent variables, we assign the features that will be used in the regression to `X` and the crime rates, `Crime`, to `y`."
   ]
  },
  {
   "cell_type": "code",
   "execution_count": 18,
   "metadata": {},
   "outputs": [],
   "source": [
    "X = df_crimes.drop('Crime', axis=1)\n",
    "y = df_crimes['Crime']"
   ]
  },
  {
   "cell_type": "code",
   "execution_count": 19,
   "metadata": {},
   "outputs": [
    {
     "data": {
      "text/html": [
       "<div>\n",
       "<style scoped>\n",
       "    .dataframe tbody tr th:only-of-type {\n",
       "        vertical-align: middle;\n",
       "    }\n",
       "\n",
       "    .dataframe tbody tr th {\n",
       "        vertical-align: top;\n",
       "    }\n",
       "\n",
       "    .dataframe thead th {\n",
       "        text-align: right;\n",
       "    }\n",
       "</style>\n",
       "<table border=\"1\" class=\"dataframe\">\n",
       "  <thead>\n",
       "    <tr style=\"text-align: right;\">\n",
       "      <th></th>\n",
       "      <th>M</th>\n",
       "      <th>So</th>\n",
       "      <th>Ed</th>\n",
       "      <th>Po1</th>\n",
       "      <th>LF</th>\n",
       "      <th>M.F</th>\n",
       "      <th>Pop</th>\n",
       "      <th>NW</th>\n",
       "      <th>U1</th>\n",
       "      <th>U2</th>\n",
       "      <th>Wealth</th>\n",
       "      <th>Ineq</th>\n",
       "      <th>Prob</th>\n",
       "      <th>Time</th>\n",
       "    </tr>\n",
       "  </thead>\n",
       "  <tbody>\n",
       "    <tr>\n",
       "      <th>0</th>\n",
       "      <td>15.1</td>\n",
       "      <td>1</td>\n",
       "      <td>9.1</td>\n",
       "      <td>5.8</td>\n",
       "      <td>0.510</td>\n",
       "      <td>95.0</td>\n",
       "      <td>33</td>\n",
       "      <td>30.1</td>\n",
       "      <td>0.108</td>\n",
       "      <td>4.1</td>\n",
       "      <td>3940</td>\n",
       "      <td>26.1</td>\n",
       "      <td>0.084602</td>\n",
       "      <td>26.2011</td>\n",
       "    </tr>\n",
       "    <tr>\n",
       "      <th>1</th>\n",
       "      <td>14.3</td>\n",
       "      <td>0</td>\n",
       "      <td>11.3</td>\n",
       "      <td>10.3</td>\n",
       "      <td>0.583</td>\n",
       "      <td>101.2</td>\n",
       "      <td>13</td>\n",
       "      <td>10.2</td>\n",
       "      <td>0.096</td>\n",
       "      <td>3.6</td>\n",
       "      <td>5570</td>\n",
       "      <td>19.4</td>\n",
       "      <td>0.029599</td>\n",
       "      <td>25.2999</td>\n",
       "    </tr>\n",
       "    <tr>\n",
       "      <th>2</th>\n",
       "      <td>14.2</td>\n",
       "      <td>1</td>\n",
       "      <td>8.9</td>\n",
       "      <td>4.5</td>\n",
       "      <td>0.533</td>\n",
       "      <td>96.9</td>\n",
       "      <td>18</td>\n",
       "      <td>21.9</td>\n",
       "      <td>0.094</td>\n",
       "      <td>3.3</td>\n",
       "      <td>3180</td>\n",
       "      <td>25.0</td>\n",
       "      <td>0.083401</td>\n",
       "      <td>24.3006</td>\n",
       "    </tr>\n",
       "  </tbody>\n",
       "</table>\n",
       "</div>"
      ],
      "text/plain": [
       "      M So    Ed   Po1     LF    M.F  Pop    NW     U1   U2  Wealth  Ineq  \\\n",
       "0  15.1  1   9.1   5.8  0.510   95.0   33  30.1  0.108  4.1    3940  26.1   \n",
       "1  14.3  0  11.3  10.3  0.583  101.2   13  10.2  0.096  3.6    5570  19.4   \n",
       "2  14.2  1   8.9   4.5  0.533   96.9   18  21.9  0.094  3.3    3180  25.0   \n",
       "\n",
       "       Prob     Time  \n",
       "0  0.084602  26.2011  \n",
       "1  0.029599  25.2999  \n",
       "2  0.083401  24.3006  "
      ]
     },
     "execution_count": 19,
     "metadata": {},
     "output_type": "execute_result"
    }
   ],
   "source": [
    "X.head(3)"
   ]
  },
  {
   "cell_type": "code",
   "execution_count": 20,
   "metadata": {},
   "outputs": [
    {
     "data": {
      "text/plain": [
       "0     791\n",
       "1    1635\n",
       "2     578\n",
       "Name: Crime, dtype: int64"
      ]
     },
     "execution_count": 20,
     "metadata": {},
     "output_type": "execute_result"
    }
   ],
   "source": [
    "y.head(3)"
   ]
  },
  {
   "cell_type": "markdown",
   "metadata": {},
   "source": [
    "Before running the linear regression, we can split the dataset into a training set and a testing set. Whatever data is used on the training set is not part of the testing set and vice-versa. Then we use the training set to model the regression and the testing set to evaluate how good our model is. "
   ]
  },
  {
   "cell_type": "code",
   "execution_count": 21,
   "metadata": {},
   "outputs": [],
   "source": [
    "X_train, X_test, y_train, y_test = train_test_split(X, y, test_size=0.3, random_state=42, shuffle=True)"
   ]
  },
  {
   "cell_type": "markdown",
   "metadata": {},
   "source": [
    "`full_linreg` is the whole processing flow. After we have fit the model to the data, we can check out the `score` which is the coefficient of determination, also known as r-squared. This value measures how accurate the modeling is, if r-squared is 1, then there is a perfect prediction."
   ]
  },
  {
   "cell_type": "code",
   "execution_count": 22,
   "metadata": {},
   "outputs": [],
   "source": [
    "full_linreg = Pipeline(steps=[('preprocessor', preprocessor),\n",
    "                      ('regression', LinearRegression())])"
   ]
  },
  {
   "cell_type": "code",
   "execution_count": 23,
   "metadata": {},
   "outputs": [
    {
     "data": {
      "text/plain": [
       "Pipeline(steps=[('preprocessor',\n",
       "                 ColumnTransformer(transformers=[('num', StandardScaler(),\n",
       "                                                  ['M', 'Ed', 'Po1', 'LF',\n",
       "                                                   'M.F', 'Pop', 'NW', 'U1',\n",
       "                                                   'U2', 'Wealth', 'Ineq',\n",
       "                                                   'Prob', 'Time']),\n",
       "                                                 ('cat', OneHotEncoder(),\n",
       "                                                  ['So'])])),\n",
       "                ('regression', LinearRegression())])"
      ]
     },
     "execution_count": 23,
     "metadata": {},
     "output_type": "execute_result"
    }
   ],
   "source": [
    "full_linreg.fit(X_train, y_train)"
   ]
  },
  {
   "cell_type": "markdown",
   "metadata": {},
   "source": [
    "To keep track of tests and mdeling, I have saved some results in a dictionary called `results`."
   ]
  },
  {
   "cell_type": "code",
   "execution_count": 24,
   "metadata": {},
   "outputs": [],
   "source": [
    "y_predict = full_linreg.predict(X_test)"
   ]
  },
  {
   "cell_type": "code",
   "execution_count": 25,
   "metadata": {},
   "outputs": [],
   "source": [
    "results['full_linreg'] = {'MAE': mean_absolute_error(y_test, y_predict),\n",
    "                          'MSE': mean_squared_error(y_test, y_predict),\n",
    "                          'R2': r2_score(y_test, y_predict)}"
   ]
  },
  {
   "cell_type": "code",
   "execution_count": 26,
   "metadata": {},
   "outputs": [],
   "source": [
    "categorical_transformer_binary = OneHotEncoder(drop='if_binary')\n",
    "preprocessor = ColumnTransformer(\n",
    "                    transformers=[\n",
    "                        ('num', numerical_transformer, numerical_var),\n",
    "                        ('cat_bin', categorical_transformer_binary, categorical_var)])\n",
    "full_linreg_bin = Pipeline(\n",
    "                    steps=[('preprocessor', preprocessor),\n",
    "                           ('regression', LinearRegression())])\n",
    "full_linreg_bin.fit(X_train, y_train)\n",
    "y_predict = full_linreg_bin.predict(X_test)\n",
    "results['full_linreg_bin'] = {'MAE': mean_absolute_error(y_test, y_predict),\n",
    "                              'MSE': mean_squared_error(y_test, y_predict),\n",
    "                              'R2': r2_score(y_test, y_predict)}"
   ]
  },
  {
   "cell_type": "code",
   "execution_count": 27,
   "metadata": {},
   "outputs": [
    {
     "data": {
      "text/html": [
       "<div>\n",
       "<style scoped>\n",
       "    .dataframe tbody tr th:only-of-type {\n",
       "        vertical-align: middle;\n",
       "    }\n",
       "\n",
       "    .dataframe tbody tr th {\n",
       "        vertical-align: top;\n",
       "    }\n",
       "\n",
       "    .dataframe thead th {\n",
       "        text-align: right;\n",
       "    }\n",
       "</style>\n",
       "<table border=\"1\" class=\"dataframe\">\n",
       "  <thead>\n",
       "    <tr style=\"text-align: right;\">\n",
       "      <th></th>\n",
       "      <th>full_linreg</th>\n",
       "      <th>full_linreg_bin</th>\n",
       "    </tr>\n",
       "  </thead>\n",
       "  <tbody>\n",
       "    <tr>\n",
       "      <th>MAE</th>\n",
       "      <td>162.928599</td>\n",
       "      <td>162.928599</td>\n",
       "    </tr>\n",
       "    <tr>\n",
       "      <th>MSE</th>\n",
       "      <td>45038.076003</td>\n",
       "      <td>45038.076003</td>\n",
       "    </tr>\n",
       "    <tr>\n",
       "      <th>R2</th>\n",
       "      <td>0.778025</td>\n",
       "      <td>0.778025</td>\n",
       "    </tr>\n",
       "  </tbody>\n",
       "</table>\n",
       "</div>"
      ],
      "text/plain": [
       "      full_linreg  full_linreg_bin\n",
       "MAE    162.928599       162.928599\n",
       "MSE  45038.076003     45038.076003\n",
       "R2       0.778025         0.778025"
      ]
     },
     "execution_count": 27,
     "metadata": {},
     "output_type": "execute_result"
    }
   ],
   "source": [
    "pd.DataFrame(results)"
   ]
  },
  {
   "cell_type": "code",
   "execution_count": 28,
   "metadata": {},
   "outputs": [
    {
     "data": {
      "text/plain": [
       "{'MAE': 162.9285989643268, 'MSE': 45038.07600299877, 'R2': 0.778024544763858}"
      ]
     },
     "execution_count": 28,
     "metadata": {},
     "output_type": "execute_result"
    }
   ],
   "source": [
    "results.pop('full_linreg_bin', None)"
   ]
  },
  {
   "cell_type": "markdown",
   "metadata": {},
   "source": [
    "We can test other approaches, for instance, we take only the variables that had a correlation coeffient within the following ranges:\n",
    "- 0.3 to 0.7. \n",
    "- -0.7 to -0.3.\n",
    "\n",
    "By doing so we would not exclude variables that have a negative correlation with `Crime`. And then we try to keep only variables that seems to be more relevant to describe the phenomenon of crime rates."
   ]
  },
  {
   "cell_type": "code",
   "execution_count": 29,
   "metadata": {},
   "outputs": [
    {
     "name": "stdout",
     "output_type": "stream",
     "text": [
      "M        -0.089472\n",
      "Ed        0.322835\n",
      "Po1       0.687604\n",
      "LF        0.188866\n",
      "M.F       0.213914\n",
      "Pop       0.337474\n",
      "NW        0.032599\n",
      "U1       -0.050478\n",
      "U2        0.177321\n",
      "Wealth    0.441320\n",
      "Ineq     -0.179024\n",
      "Prob     -0.427422\n",
      "Time      0.149866\n",
      "Crime     1.000000\n",
      "Name: Crime, dtype: float64\n"
     ]
    }
   ],
   "source": [
    "corr_value = df_crimes.corr()['Crime']\n",
    "print(corr_value)"
   ]
  },
  {
   "cell_type": "code",
   "execution_count": 30,
   "metadata": {},
   "outputs": [],
   "source": [
    "conditional = (corr_value > -0.7) & (corr_value < -0.3) | (corr_value > 0.3) & (corr_value < 0.7)"
   ]
  },
  {
   "cell_type": "code",
   "execution_count": 31,
   "metadata": {},
   "outputs": [],
   "source": [
    "conditional['So'] = True"
   ]
  },
  {
   "cell_type": "code",
   "execution_count": 32,
   "metadata": {},
   "outputs": [],
   "source": [
    "X_2 = X[df_crimes.loc[:, conditional].columns.values]"
   ]
  },
  {
   "cell_type": "code",
   "execution_count": 33,
   "metadata": {},
   "outputs": [
    {
     "data": {
      "text/html": [
       "<div>\n",
       "<style scoped>\n",
       "    .dataframe tbody tr th:only-of-type {\n",
       "        vertical-align: middle;\n",
       "    }\n",
       "\n",
       "    .dataframe tbody tr th {\n",
       "        vertical-align: top;\n",
       "    }\n",
       "\n",
       "    .dataframe thead th {\n",
       "        text-align: right;\n",
       "    }\n",
       "</style>\n",
       "<table border=\"1\" class=\"dataframe\">\n",
       "  <thead>\n",
       "    <tr style=\"text-align: right;\">\n",
       "      <th></th>\n",
       "      <th>So</th>\n",
       "      <th>Ed</th>\n",
       "      <th>Po1</th>\n",
       "      <th>Pop</th>\n",
       "      <th>Wealth</th>\n",
       "      <th>Prob</th>\n",
       "    </tr>\n",
       "  </thead>\n",
       "  <tbody>\n",
       "    <tr>\n",
       "      <th>0</th>\n",
       "      <td>1</td>\n",
       "      <td>9.1</td>\n",
       "      <td>5.8</td>\n",
       "      <td>33</td>\n",
       "      <td>3940</td>\n",
       "      <td>0.084602</td>\n",
       "    </tr>\n",
       "    <tr>\n",
       "      <th>1</th>\n",
       "      <td>0</td>\n",
       "      <td>11.3</td>\n",
       "      <td>10.3</td>\n",
       "      <td>13</td>\n",
       "      <td>5570</td>\n",
       "      <td>0.029599</td>\n",
       "    </tr>\n",
       "    <tr>\n",
       "      <th>2</th>\n",
       "      <td>1</td>\n",
       "      <td>8.9</td>\n",
       "      <td>4.5</td>\n",
       "      <td>18</td>\n",
       "      <td>3180</td>\n",
       "      <td>0.083401</td>\n",
       "    </tr>\n",
       "    <tr>\n",
       "      <th>3</th>\n",
       "      <td>0</td>\n",
       "      <td>12.1</td>\n",
       "      <td>14.9</td>\n",
       "      <td>157</td>\n",
       "      <td>6730</td>\n",
       "      <td>0.015801</td>\n",
       "    </tr>\n",
       "    <tr>\n",
       "      <th>4</th>\n",
       "      <td>0</td>\n",
       "      <td>12.1</td>\n",
       "      <td>10.9</td>\n",
       "      <td>18</td>\n",
       "      <td>5780</td>\n",
       "      <td>0.041399</td>\n",
       "    </tr>\n",
       "  </tbody>\n",
       "</table>\n",
       "</div>"
      ],
      "text/plain": [
       "  So    Ed   Po1  Pop  Wealth      Prob\n",
       "0  1   9.1   5.8   33    3940  0.084602\n",
       "1  0  11.3  10.3   13    5570  0.029599\n",
       "2  1   8.9   4.5   18    3180  0.083401\n",
       "3  0  12.1  14.9  157    6730  0.015801\n",
       "4  0  12.1  10.9   18    5780  0.041399"
      ]
     },
     "execution_count": 33,
     "metadata": {},
     "output_type": "execute_result"
    }
   ],
   "source": [
    "X_2.head(5)"
   ]
  },
  {
   "cell_type": "code",
   "execution_count": 34,
   "metadata": {},
   "outputs": [],
   "source": [
    "X_train, X_test, y_train, y_test = train_test_split(X_2, y, test_size=0.3, random_state=42, shuffle=True)"
   ]
  },
  {
   "cell_type": "code",
   "execution_count": 35,
   "metadata": {},
   "outputs": [],
   "source": [
    "X2_numerical_var = [col for col in X_2.columns if (col != 'So')]\n",
    "\n",
    "preprocessor = ColumnTransformer(\n",
    "                    transformers=[\n",
    "                        ('num', numerical_transformer, X2_numerical_var),\n",
    "                        ('cat', categorical_transformer, categorical_var)])\n",
    "\n",
    "corr_linreg = Pipeline(steps=[('preprocessor', preprocessor),\n",
    "                      ('regression', LinearRegression())])\n",
    "\n",
    "corr_linreg.fit(X_train, y_train)\n",
    "y_predict = corr_linreg.predict(X_test)\n",
    "results['corr_linreg'] = {'MAE': mean_absolute_error(y_test, y_predict),\n",
    "                              'MSE': mean_squared_error(y_test, y_predict),\n",
    "                              'R2': r2_score(y_test, y_predict)}"
   ]
  },
  {
   "cell_type": "code",
   "execution_count": 36,
   "metadata": {},
   "outputs": [
    {
     "data": {
      "text/html": [
       "<div>\n",
       "<style scoped>\n",
       "    .dataframe tbody tr th:only-of-type {\n",
       "        vertical-align: middle;\n",
       "    }\n",
       "\n",
       "    .dataframe tbody tr th {\n",
       "        vertical-align: top;\n",
       "    }\n",
       "\n",
       "    .dataframe thead th {\n",
       "        text-align: right;\n",
       "    }\n",
       "</style>\n",
       "<table border=\"1\" class=\"dataframe\">\n",
       "  <thead>\n",
       "    <tr style=\"text-align: right;\">\n",
       "      <th></th>\n",
       "      <th>full_linreg</th>\n",
       "      <th>corr_linreg</th>\n",
       "    </tr>\n",
       "  </thead>\n",
       "  <tbody>\n",
       "    <tr>\n",
       "      <th>MAE</th>\n",
       "      <td>162.928599</td>\n",
       "      <td>220.961329</td>\n",
       "    </tr>\n",
       "    <tr>\n",
       "      <th>MSE</th>\n",
       "      <td>45038.076003</td>\n",
       "      <td>87244.128380</td>\n",
       "    </tr>\n",
       "    <tr>\n",
       "      <th>R2</th>\n",
       "      <td>0.778025</td>\n",
       "      <td>0.570007</td>\n",
       "    </tr>\n",
       "  </tbody>\n",
       "</table>\n",
       "</div>"
      ],
      "text/plain": [
       "      full_linreg   corr_linreg\n",
       "MAE    162.928599    220.961329\n",
       "MSE  45038.076003  87244.128380\n",
       "R2       0.778025      0.570007"
      ]
     },
     "execution_count": 36,
     "metadata": {},
     "output_type": "execute_result"
    }
   ],
   "source": [
    "pd.DataFrame(results)"
   ]
  },
  {
   "cell_type": "markdown",
   "metadata": {},
   "source": [
    "From the table above, we can see that considering only variables with correlation coefficients with the purposed ranges did not improved the final result compared to using all variables.\n",
    "\n",
    "Still using the idea of limiting variables by the correlation values, we can increase a little bit the ranges, but keeping outside the variables that had values closer to zero."
   ]
  },
  {
   "cell_type": "code",
   "execution_count": 37,
   "metadata": {},
   "outputs": [
    {
     "data": {
      "text/html": [
       "<div>\n",
       "<style scoped>\n",
       "    .dataframe tbody tr th:only-of-type {\n",
       "        vertical-align: middle;\n",
       "    }\n",
       "\n",
       "    .dataframe tbody tr th {\n",
       "        vertical-align: top;\n",
       "    }\n",
       "\n",
       "    .dataframe thead th {\n",
       "        text-align: right;\n",
       "    }\n",
       "</style>\n",
       "<table border=\"1\" class=\"dataframe\">\n",
       "  <thead>\n",
       "    <tr style=\"text-align: right;\">\n",
       "      <th></th>\n",
       "      <th>So</th>\n",
       "      <th>Ed</th>\n",
       "      <th>Po1</th>\n",
       "      <th>LF</th>\n",
       "      <th>M.F</th>\n",
       "      <th>Pop</th>\n",
       "      <th>U2</th>\n",
       "      <th>Wealth</th>\n",
       "      <th>Ineq</th>\n",
       "      <th>Prob</th>\n",
       "      <th>Time</th>\n",
       "    </tr>\n",
       "  </thead>\n",
       "  <tbody>\n",
       "    <tr>\n",
       "      <th>0</th>\n",
       "      <td>1</td>\n",
       "      <td>9.1</td>\n",
       "      <td>5.8</td>\n",
       "      <td>0.510</td>\n",
       "      <td>95.0</td>\n",
       "      <td>33</td>\n",
       "      <td>4.1</td>\n",
       "      <td>3940</td>\n",
       "      <td>26.1</td>\n",
       "      <td>0.084602</td>\n",
       "      <td>26.2011</td>\n",
       "    </tr>\n",
       "    <tr>\n",
       "      <th>1</th>\n",
       "      <td>0</td>\n",
       "      <td>11.3</td>\n",
       "      <td>10.3</td>\n",
       "      <td>0.583</td>\n",
       "      <td>101.2</td>\n",
       "      <td>13</td>\n",
       "      <td>3.6</td>\n",
       "      <td>5570</td>\n",
       "      <td>19.4</td>\n",
       "      <td>0.029599</td>\n",
       "      <td>25.2999</td>\n",
       "    </tr>\n",
       "    <tr>\n",
       "      <th>2</th>\n",
       "      <td>1</td>\n",
       "      <td>8.9</td>\n",
       "      <td>4.5</td>\n",
       "      <td>0.533</td>\n",
       "      <td>96.9</td>\n",
       "      <td>18</td>\n",
       "      <td>3.3</td>\n",
       "      <td>3180</td>\n",
       "      <td>25.0</td>\n",
       "      <td>0.083401</td>\n",
       "      <td>24.3006</td>\n",
       "    </tr>\n",
       "    <tr>\n",
       "      <th>3</th>\n",
       "      <td>0</td>\n",
       "      <td>12.1</td>\n",
       "      <td>14.9</td>\n",
       "      <td>0.577</td>\n",
       "      <td>99.4</td>\n",
       "      <td>157</td>\n",
       "      <td>3.9</td>\n",
       "      <td>6730</td>\n",
       "      <td>16.7</td>\n",
       "      <td>0.015801</td>\n",
       "      <td>29.9012</td>\n",
       "    </tr>\n",
       "    <tr>\n",
       "      <th>4</th>\n",
       "      <td>0</td>\n",
       "      <td>12.1</td>\n",
       "      <td>10.9</td>\n",
       "      <td>0.591</td>\n",
       "      <td>98.5</td>\n",
       "      <td>18</td>\n",
       "      <td>2.0</td>\n",
       "      <td>5780</td>\n",
       "      <td>17.4</td>\n",
       "      <td>0.041399</td>\n",
       "      <td>21.2998</td>\n",
       "    </tr>\n",
       "  </tbody>\n",
       "</table>\n",
       "</div>"
      ],
      "text/plain": [
       "  So    Ed   Po1     LF    M.F  Pop   U2  Wealth  Ineq      Prob     Time\n",
       "0  1   9.1   5.8  0.510   95.0   33  4.1    3940  26.1  0.084602  26.2011\n",
       "1  0  11.3  10.3  0.583  101.2   13  3.6    5570  19.4  0.029599  25.2999\n",
       "2  1   8.9   4.5  0.533   96.9   18  3.3    3180  25.0  0.083401  24.3006\n",
       "3  0  12.1  14.9  0.577   99.4  157  3.9    6730  16.7  0.015801  29.9012\n",
       "4  0  12.1  10.9  0.591   98.5   18  2.0    5780  17.4  0.041399  21.2998"
      ]
     },
     "execution_count": 37,
     "metadata": {},
     "output_type": "execute_result"
    }
   ],
   "source": [
    "conditional = (corr_value > -0.7) & (corr_value < -0.1) | (corr_value > 0.1) & (corr_value < 0.7)\n",
    "conditional['So'] = True\n",
    "X_3 = X[df_crimes.loc[:, conditional].columns.values]\n",
    "\n",
    "X_3.head(5)"
   ]
  },
  {
   "cell_type": "code",
   "execution_count": 38,
   "metadata": {},
   "outputs": [],
   "source": [
    "X_train, X_test, y_train, y_test = train_test_split(X_3, y, test_size=0.3, random_state=42, shuffle=True)"
   ]
  },
  {
   "cell_type": "code",
   "execution_count": 39,
   "metadata": {},
   "outputs": [],
   "source": [
    "X3_numerical_var = [col for col in X_3.columns if (col != 'So')]\n",
    "\n",
    "preprocessor = ColumnTransformer(\n",
    "                    transformers=[\n",
    "                        ('num', numerical_transformer, X3_numerical_var),\n",
    "                        ('cat', categorical_transformer, categorical_var)])\n",
    "\n",
    "corr2_linreg = Pipeline(steps=[('preprocessor', preprocessor),\n",
    "                      ('regression', LinearRegression())])\n",
    "\n",
    "corr2_linreg.fit(X_train, y_train)\n",
    "\n",
    "y_predict = corr2_linreg.predict(X_test)\n",
    "results['corr2_linreg'] = {'MAE': mean_absolute_error(y_test, y_predict),\n",
    "                           'MSE': mean_squared_error(y_test, y_predict),\n",
    "                           'R2': r2_score(y_test, y_predict)}"
   ]
  },
  {
   "cell_type": "code",
   "execution_count": 40,
   "metadata": {},
   "outputs": [
    {
     "data": {
      "text/html": [
       "<div>\n",
       "<style scoped>\n",
       "    .dataframe tbody tr th:only-of-type {\n",
       "        vertical-align: middle;\n",
       "    }\n",
       "\n",
       "    .dataframe tbody tr th {\n",
       "        vertical-align: top;\n",
       "    }\n",
       "\n",
       "    .dataframe thead th {\n",
       "        text-align: right;\n",
       "    }\n",
       "</style>\n",
       "<table border=\"1\" class=\"dataframe\">\n",
       "  <thead>\n",
       "    <tr style=\"text-align: right;\">\n",
       "      <th></th>\n",
       "      <th>full_linreg</th>\n",
       "      <th>corr_linreg</th>\n",
       "      <th>corr2_linreg</th>\n",
       "    </tr>\n",
       "  </thead>\n",
       "  <tbody>\n",
       "    <tr>\n",
       "      <th>MAE</th>\n",
       "      <td>162.928599</td>\n",
       "      <td>220.961329</td>\n",
       "      <td>175.619922</td>\n",
       "    </tr>\n",
       "    <tr>\n",
       "      <th>MSE</th>\n",
       "      <td>45038.076003</td>\n",
       "      <td>87244.128380</td>\n",
       "      <td>55479.884940</td>\n",
       "    </tr>\n",
       "    <tr>\n",
       "      <th>R2</th>\n",
       "      <td>0.778025</td>\n",
       "      <td>0.570007</td>\n",
       "      <td>0.726561</td>\n",
       "    </tr>\n",
       "  </tbody>\n",
       "</table>\n",
       "</div>"
      ],
      "text/plain": [
       "      full_linreg   corr_linreg  corr2_linreg\n",
       "MAE    162.928599    220.961329    175.619922\n",
       "MSE  45038.076003  87244.128380  55479.884940\n",
       "R2       0.778025      0.570007      0.726561"
      ]
     },
     "execution_count": 40,
     "metadata": {},
     "output_type": "execute_result"
    }
   ],
   "source": [
    "pd.DataFrame(results)"
   ]
  },
  {
   "cell_type": "markdown",
   "metadata": {},
   "source": [
    "Compared with the first correlation selection approach, we did have some improvements with the second approach, where more variables were used, but still not a very good test score if we look at the results using all variables.\n",
    "\n",
    "In the next test, we will go back to our heatmap and pick only one variable from each couple of variables that present high correlation. We have already done that with `Po1` and `Po2`, but now we will also look at the following couples:\n",
    "- `U1` and `U2`: correlation = 0.75.\n",
    "- `M` and `So`: correlation = 0.58.\n",
    "- `Ed` and `So`: correlation = -0.70.\n",
    "- `M.F` and `LF`: correlation = 0.51.\n",
    "- `Wealth` and `Ineq`: correlation = -0.88.\n",
    "\n",
    "Then given these correlation values, we can decide to keep only one of the variables based on the correlation with `Crime`. From the options above, we can select: `U2`, `M`, `Ed`, `M.F` and `Wealth`.\n",
    "\n",
    "There is one aspect of `Wealth` that is interesting to highlight which is the fact that `Wealth` has a high correlation with `Ed` and `Po1`. So instead of choosing `Wealth` over `Ineq`, it is important to test both cases.\n",
    "\n",
    "`conditional1` selects `Wealth` instead of `Ineq` and then `conditional2` does the other way."
   ]
  },
  {
   "cell_type": "code",
   "execution_count": 41,
   "metadata": {},
   "outputs": [],
   "source": [
    "conditional1 = ['M', 'Ed', 'Po1', 'M.F', 'U2', 'Wealth', 'Prob', 'Time']\n",
    "conditional2 = ['M', 'Ed', 'Po1', 'M.F', 'U2', 'Ineq', 'Prob', 'Time']"
   ]
  },
  {
   "cell_type": "code",
   "execution_count": 42,
   "metadata": {},
   "outputs": [],
   "source": [
    "X_4a = X[conditional1]\n",
    "\n",
    "X_train, X_test, y_train, y_test = train_test_split(X_4a, y, test_size=0.3, random_state=42, shuffle=True)\n",
    "\n",
    "preprocessor = ColumnTransformer(\n",
    "                    transformers=[\n",
    "                        ('num', numerical_transformer, X_4a.columns.values)])\n",
    "\n",
    "m1_linreg = Pipeline(steps=[('preprocessor', preprocessor),\n",
    "                      ('regression', LinearRegression())])\n",
    "\n",
    "m1_linreg.fit(X_train, y_train)\n",
    "\n",
    "y_predict = m1_linreg.predict(X_test)\n",
    "results['m1_linreg'] = {'MAE': mean_absolute_error(y_test, y_predict),\n",
    "                        'MSE': mean_squared_error(y_test, y_predict),\n",
    "                        'R2': r2_score(y_test, y_predict)}"
   ]
  },
  {
   "cell_type": "code",
   "execution_count": 43,
   "metadata": {},
   "outputs": [],
   "source": [
    "X_4b = X[conditional2]\n",
    "\n",
    "X_train, X_test, y_train, y_test = train_test_split(X_4b, y, test_size=0.3, random_state=42, shuffle=True)\n",
    "\n",
    "preprocessor = ColumnTransformer(\n",
    "                    transformers=[\n",
    "                        ('num', numerical_transformer, X_4b.columns.values)])\n",
    "\n",
    "m2_linreg = Pipeline(steps=[('preprocessor', preprocessor),\n",
    "                      ('regression', LinearRegression())])\n",
    "\n",
    "m2_linreg.fit(X_train, y_train)\n",
    "\n",
    "y_predict = m2_linreg.predict(X_test)\n",
    "results['m2_linreg'] = {'MAE': mean_absolute_error(y_test, y_predict),\n",
    "                        'MSE': mean_squared_error(y_test, y_predict),\n",
    "                        'R2': r2_score(y_test, y_predict)}"
   ]
  },
  {
   "cell_type": "code",
   "execution_count": 44,
   "metadata": {},
   "outputs": [
    {
     "data": {
      "text/html": [
       "<div>\n",
       "<style scoped>\n",
       "    .dataframe tbody tr th:only-of-type {\n",
       "        vertical-align: middle;\n",
       "    }\n",
       "\n",
       "    .dataframe tbody tr th {\n",
       "        vertical-align: top;\n",
       "    }\n",
       "\n",
       "    .dataframe thead th {\n",
       "        text-align: right;\n",
       "    }\n",
       "</style>\n",
       "<table border=\"1\" class=\"dataframe\">\n",
       "  <thead>\n",
       "    <tr style=\"text-align: right;\">\n",
       "      <th></th>\n",
       "      <th>full_linreg</th>\n",
       "      <th>corr_linreg</th>\n",
       "      <th>corr2_linreg</th>\n",
       "      <th>m1_linreg</th>\n",
       "      <th>m2_linreg</th>\n",
       "    </tr>\n",
       "  </thead>\n",
       "  <tbody>\n",
       "    <tr>\n",
       "      <th>MAE</th>\n",
       "      <td>162.928599</td>\n",
       "      <td>220.961329</td>\n",
       "      <td>175.619922</td>\n",
       "      <td>191.157571</td>\n",
       "      <td>126.746919</td>\n",
       "    </tr>\n",
       "    <tr>\n",
       "      <th>MSE</th>\n",
       "      <td>45038.076003</td>\n",
       "      <td>87244.128380</td>\n",
       "      <td>55479.884940</td>\n",
       "      <td>54178.003150</td>\n",
       "      <td>24329.847626</td>\n",
       "    </tr>\n",
       "    <tr>\n",
       "      <th>R2</th>\n",
       "      <td>0.778025</td>\n",
       "      <td>0.570007</td>\n",
       "      <td>0.726561</td>\n",
       "      <td>0.732977</td>\n",
       "      <td>0.880087</td>\n",
       "    </tr>\n",
       "  </tbody>\n",
       "</table>\n",
       "</div>"
      ],
      "text/plain": [
       "      full_linreg   corr_linreg  corr2_linreg     m1_linreg     m2_linreg\n",
       "MAE    162.928599    220.961329    175.619922    191.157571    126.746919\n",
       "MSE  45038.076003  87244.128380  55479.884940  54178.003150  24329.847626\n",
       "R2       0.778025      0.570007      0.726561      0.732977      0.880087"
      ]
     },
     "execution_count": 44,
     "metadata": {},
     "output_type": "execute_result"
    }
   ],
   "source": [
    "pd.DataFrame(results)"
   ]
  },
  {
   "cell_type": "markdown",
   "metadata": {},
   "source": [
    "The table above summarizes the tests performed so far in this data modeling:\n",
    "- `full_linreg`: all variables used.\n",
    "- `corr_linreg`: variable selection based on narrow range of correlation with `Crime`.\n",
    "- `corr2_linreg`: flexibilization of `corr_linreg`, where the correlation range considered was wider.\n",
    "- `m1_linreg`: for couples of variables with high correlation, selecting only one of those variables based on the correlation with `Crime`.\n",
    "- `m2_linreg`: variation of `m1_linreg` substituting `Wealth` by `Ineq`.\n",
    "\n",
    "From the tests above, we had the last scenario where the set of variables `M`, `Ed`, `Po1`, `M.F`, `U2`, `Ineq`, `Prob`, `Time` has achieved the highest r-squared value of 88%.\n",
    "\n",
    "For the sake of curiosity below we can have a look at the coefficients and intercept of this model."
   ]
  },
  {
   "cell_type": "code",
   "execution_count": 45,
   "metadata": {},
   "outputs": [
    {
     "data": {
      "text/plain": [
       "[('M', 103.447),\n",
       " ('Ed', 198.157),\n",
       " ('Po1', 305.369),\n",
       " ('M.F', 18.048),\n",
       " ('U2', 36.516),\n",
       " ('Ineq', 289.431),\n",
       " ('Prob', -95.121),\n",
       " ('Time', 23.527)]"
      ]
     },
     "execution_count": 45,
     "metadata": {},
     "output_type": "execute_result"
    }
   ],
   "source": [
    "list(zip(X_4b.columns, np.round(m2_linreg['regression'].coef_, 3)))"
   ]
  },
  {
   "cell_type": "code",
   "execution_count": 46,
   "metadata": {},
   "outputs": [
    {
     "name": "stdout",
     "output_type": "stream",
     "text": [
      "Intercept = 840.375\n"
     ]
    }
   ],
   "source": [
    "print(\"Intercept = {}\".format(np.round(m2_linreg['regression'].intercept_, 3)))"
   ]
  },
  {
   "cell_type": "markdown",
   "metadata": {},
   "source": [
    "Considering this last model, the predicted value for the **crime rate** is **1269.51**. It is nice to point out that model `m2_linreg` use only 8 of the 15 input variables.\n"
   ]
  },
  {
   "cell_type": "code",
   "execution_count": 47,
   "metadata": {},
   "outputs": [
    {
     "name": "stdout",
     "output_type": "stream",
     "text": [
      "[1276.37695715]\n"
     ]
    }
   ],
   "source": [
    "crime = m2_linreg.predict(to_predict[X_4b.columns])\n",
    "print(crime)"
   ]
  },
  {
   "cell_type": "markdown",
   "metadata": {},
   "source": [
    "-------\n",
    "# Model Improvement\n",
    "\n",
    "We can try to improve the best model we got so far by doing a few tests:\n",
    "1. Drop the 3 outliers with `Crime` values above the percentile 95.\n",
    "2. Use another strategy to reduce dimensionality, for example, PCA."
   ]
  },
  {
   "cell_type": "markdown",
   "metadata": {},
   "source": [
    "## Test without outliers\n",
    "\n",
    "We will drop the entries that have `Crime` value above 1750."
   ]
  },
  {
   "cell_type": "code",
   "execution_count": 48,
   "metadata": {},
   "outputs": [],
   "source": [
    "df_crimes = df_crimes.loc[df_crimes['Crime'] <= 1750]"
   ]
  },
  {
   "cell_type": "code",
   "execution_count": 49,
   "metadata": {},
   "outputs": [],
   "source": [
    "X = df_crimes.drop('Crime', axis=1)\n",
    "y = df_crimes['Crime']\n",
    "\n",
    "X_no_out = X[conditional2]\n",
    "\n",
    "X_train, X_test, y_train, y_test = train_test_split(X_no_out, y, test_size=0.3, random_state=42, shuffle=True)\n",
    "\n",
    "preprocessor = ColumnTransformer(\n",
    "                    transformers=[\n",
    "                        ('num', numerical_transformer, X_no_out.columns.values)])\n",
    "\n",
    "m2_linreg_no_out = Pipeline(steps=[('preprocessor', preprocessor),\n",
    "                      ('regression', LinearRegression(copy_X=True))])\n",
    "\n",
    "m2_linreg_no_out.fit(X_train, y_train)\n",
    "\n",
    "y_predict = m2_linreg_no_out.predict(X_test)\n",
    "results['m2_linreg_no_out'] = {'MAE': mean_absolute_error(y_test, y_predict),\n",
    "                        'MSE': mean_squared_error(y_test, y_predict),\n",
    "                        'R2': r2_score(y_test, y_predict)}"
   ]
  },
  {
   "cell_type": "code",
   "execution_count": 50,
   "metadata": {},
   "outputs": [
    {
     "data": {
      "text/html": [
       "<div>\n",
       "<style scoped>\n",
       "    .dataframe tbody tr th:only-of-type {\n",
       "        vertical-align: middle;\n",
       "    }\n",
       "\n",
       "    .dataframe tbody tr th {\n",
       "        vertical-align: top;\n",
       "    }\n",
       "\n",
       "    .dataframe thead th {\n",
       "        text-align: right;\n",
       "    }\n",
       "</style>\n",
       "<table border=\"1\" class=\"dataframe\">\n",
       "  <thead>\n",
       "    <tr style=\"text-align: right;\">\n",
       "      <th></th>\n",
       "      <th>full_linreg</th>\n",
       "      <th>corr_linreg</th>\n",
       "      <th>corr2_linreg</th>\n",
       "      <th>m1_linreg</th>\n",
       "      <th>m2_linreg</th>\n",
       "      <th>m2_linreg_no_out</th>\n",
       "    </tr>\n",
       "  </thead>\n",
       "  <tbody>\n",
       "    <tr>\n",
       "      <th>MAE</th>\n",
       "      <td>162.928599</td>\n",
       "      <td>220.961329</td>\n",
       "      <td>175.619922</td>\n",
       "      <td>191.157571</td>\n",
       "      <td>126.746919</td>\n",
       "      <td>226.787178</td>\n",
       "    </tr>\n",
       "    <tr>\n",
       "      <th>MSE</th>\n",
       "      <td>45038.076003</td>\n",
       "      <td>87244.128380</td>\n",
       "      <td>55479.884940</td>\n",
       "      <td>54178.003150</td>\n",
       "      <td>24329.847626</td>\n",
       "      <td>99998.194490</td>\n",
       "    </tr>\n",
       "    <tr>\n",
       "      <th>R2</th>\n",
       "      <td>0.778025</td>\n",
       "      <td>0.570007</td>\n",
       "      <td>0.726561</td>\n",
       "      <td>0.732977</td>\n",
       "      <td>0.880087</td>\n",
       "      <td>0.079250</td>\n",
       "    </tr>\n",
       "  </tbody>\n",
       "</table>\n",
       "</div>"
      ],
      "text/plain": [
       "      full_linreg   corr_linreg  corr2_linreg     m1_linreg     m2_linreg  \\\n",
       "MAE    162.928599    220.961329    175.619922    191.157571    126.746919   \n",
       "MSE  45038.076003  87244.128380  55479.884940  54178.003150  24329.847626   \n",
       "R2       0.778025      0.570007      0.726561      0.732977      0.880087   \n",
       "\n",
       "     m2_linreg_no_out  \n",
       "MAE        226.787178  \n",
       "MSE      99998.194490  \n",
       "R2           0.079250  "
      ]
     },
     "execution_count": 50,
     "metadata": {},
     "output_type": "execute_result"
    }
   ],
   "source": [
    "pd.DataFrame(results)"
   ]
  },
  {
   "cell_type": "markdown",
   "metadata": {},
   "source": [
    "From the `R2` value, the model without outliers does not improve the model"
   ]
  },
  {
   "cell_type": "markdown",
   "metadata": {},
   "source": [
    "## PCA"
   ]
  },
  {
   "cell_type": "code",
   "execution_count": 51,
   "metadata": {},
   "outputs": [],
   "source": [
    "from sklearn.decomposition import PCA"
   ]
  },
  {
   "cell_type": "code",
   "execution_count": 52,
   "metadata": {},
   "outputs": [],
   "source": [
    "df_crimes = pd.read_csv(\"../dataset/uscrime.txt\", sep=\"\\t\")\n",
    "X = df_crimes.drop(columns=['Crime','So'], axis=1)\n",
    "y = df_crimes['Crime']\n",
    "\n",
    "X_train, X_test, y_train, y_test = train_test_split(X, y, test_size=0.3, random_state=42, shuffle=True)\n",
    "\n",
    "preprocessor = ColumnTransformer(\n",
    "                    transformers=[\n",
    "                        ('num', numerical_transformer, X.columns.values)])\n",
    "\n",
    "linreg_PCA1 = Pipeline(steps=[('preprocessor', preprocessor),\n",
    "                        ('pca', PCA()),\n",
    "                        ('regression', ElasticNet())])\n",
    "\n",
    "linreg_PCA1.fit(X_train, y_train)\n",
    "\n",
    "y_predict = linreg_PCA1.predict(X_test)\n",
    "results['linreg_PCA1'] = {'MAE': mean_absolute_error(y_test, y_predict),\n",
    "                        'MSE': mean_squared_error(y_test, y_predict),\n",
    "                        'R2': r2_score(y_test, y_predict)}"
   ]
  },
  {
   "cell_type": "code",
   "execution_count": 53,
   "metadata": {},
   "outputs": [
    {
     "data": {
      "text/html": [
       "<div>\n",
       "<style scoped>\n",
       "    .dataframe tbody tr th:only-of-type {\n",
       "        vertical-align: middle;\n",
       "    }\n",
       "\n",
       "    .dataframe tbody tr th {\n",
       "        vertical-align: top;\n",
       "    }\n",
       "\n",
       "    .dataframe thead th {\n",
       "        text-align: right;\n",
       "    }\n",
       "</style>\n",
       "<table border=\"1\" class=\"dataframe\">\n",
       "  <thead>\n",
       "    <tr style=\"text-align: right;\">\n",
       "      <th></th>\n",
       "      <th>full_linreg</th>\n",
       "      <th>corr_linreg</th>\n",
       "      <th>corr2_linreg</th>\n",
       "      <th>m1_linreg</th>\n",
       "      <th>m2_linreg</th>\n",
       "      <th>m2_linreg_no_out</th>\n",
       "      <th>linreg_PCA1</th>\n",
       "    </tr>\n",
       "  </thead>\n",
       "  <tbody>\n",
       "    <tr>\n",
       "      <th>MAE</th>\n",
       "      <td>162.928599</td>\n",
       "      <td>220.961329</td>\n",
       "      <td>175.619922</td>\n",
       "      <td>191.157571</td>\n",
       "      <td>126.746919</td>\n",
       "      <td>226.787178</td>\n",
       "      <td>257.775583</td>\n",
       "    </tr>\n",
       "    <tr>\n",
       "      <th>MSE</th>\n",
       "      <td>45038.076003</td>\n",
       "      <td>87244.128380</td>\n",
       "      <td>55479.884940</td>\n",
       "      <td>54178.003150</td>\n",
       "      <td>24329.847626</td>\n",
       "      <td>99998.194490</td>\n",
       "      <td>108549.675556</td>\n",
       "    </tr>\n",
       "    <tr>\n",
       "      <th>R2</th>\n",
       "      <td>0.778025</td>\n",
       "      <td>0.570007</td>\n",
       "      <td>0.726561</td>\n",
       "      <td>0.732977</td>\n",
       "      <td>0.880087</td>\n",
       "      <td>0.079250</td>\n",
       "      <td>0.465000</td>\n",
       "    </tr>\n",
       "  </tbody>\n",
       "</table>\n",
       "</div>"
      ],
      "text/plain": [
       "      full_linreg   corr_linreg  corr2_linreg     m1_linreg     m2_linreg  \\\n",
       "MAE    162.928599    220.961329    175.619922    191.157571    126.746919   \n",
       "MSE  45038.076003  87244.128380  55479.884940  54178.003150  24329.847626   \n",
       "R2       0.778025      0.570007      0.726561      0.732977      0.880087   \n",
       "\n",
       "     m2_linreg_no_out    linreg_PCA1  \n",
       "MAE        226.787178     257.775583  \n",
       "MSE      99998.194490  108549.675556  \n",
       "R2           0.079250       0.465000  "
      ]
     },
     "execution_count": 53,
     "metadata": {},
     "output_type": "execute_result"
    }
   ],
   "source": [
    "pd.DataFrame(results)"
   ]
  },
  {
   "cell_type": "code",
   "execution_count": 54,
   "metadata": {},
   "outputs": [],
   "source": [
    "scaler = StandardScaler()\n",
    "X_scaled = scaler.fit_transform(X_train)\n",
    "X_test_scaled = scaler.transform(X_test)"
   ]
  },
  {
   "cell_type": "code",
   "execution_count": 55,
   "metadata": {},
   "outputs": [
    {
     "name": "stdout",
     "output_type": "stream",
     "text": [
      "PCA component analysis: \n",
      "number of components 2 - score on test data 0.09763752861107866\n",
      "PCA component analysis: \n",
      "number of components 4 - score on test data -0.047700534802244565\n",
      "PCA component analysis: \n",
      "number of components 6 - score on test data 0.6062169552066896\n",
      "PCA component analysis: \n",
      "number of components 8 - score on test data 0.5663355864119097\n",
      "PCA component analysis: \n",
      "number of components 10 - score on test data 0.686527477731727\n"
     ]
    }
   ],
   "source": [
    "for comp in range(2, 12, 2):\n",
    "    pca = PCA(n_components=comp)\n",
    "    X_scaled_pca = pca.fit_transform(X_scaled)\n",
    "    lin_reg_pca = LinearRegression()\n",
    "    lin_reg_pca.fit(X_scaled_pca, y_train)\n",
    "    score = lin_reg_pca.score(pca.transform(X_test_scaled), y_test)\n",
    "    print(f\"PCA component analysis: \")\n",
    "    print(f\"number of components {comp} - score on test data {score}\")\n"
   ]
  },
  {
   "cell_type": "markdown",
   "metadata": {},
   "source": [
    "At this moment the applying PCA seems not very effective, this should be investigated in depth. For the moment, we can consider the best result based on the `R2` model `m2_linreg`."
   ]
  },
  {
   "cell_type": "markdown",
   "metadata": {},
   "source": [
    "-------\n",
    "# Conclusion\n",
    "\n",
    "To summarize, in this exercise, in order to model the crime rate for the point:  \n",
    "- `M = 14.0`\n",
    "- `So = 0`\n",
    "- `Ed = 10.0`\n",
    "- `Po1 = 12.0`\n",
    "- `Po2 = 15.5`\n",
    "- `LF = 0.640`\n",
    "- `M.F = 94`\n",
    "- `Pop = 150`\n",
    "- `NW = 1.1`\n",
    "- `U1 = 0.120`\n",
    "- `U2 = 3.6`\n",
    "- `Wealth = 3200`\n",
    "- `Ineq = 20.1`\n",
    "- `Prop = 0.04`\n",
    "- `Time = 39.0` \n",
    "- `Crime = ???`  \n",
    "we have used the [dataset](http://www.statsci.org/data/general/uscrime.txt) of crime rates of the USA for 1960. \n",
    "\n",
    "Based on this dataset, we initially looked at the variables to investigate which ones were more relevant to describe the crime rate. And then, we tested 5 different approaches of linear regressions; theses approaches vary by the selection of variables used to modeled `Crime` variable, our aim (dependent) variable. The first assumption we did right from the pearson correlation result was that due to the high correlation of `Po1` and `Po2`, we would only keep one of theses variables, which was `Po1`. \n",
    "\n",
    "From the modeling step, we manage to build a linear regression model using only 8 of the 15 input variables which has a coefficient of determination of 0.88. Moreover, given the point above with our best model, we could find the crime rate value of **1269.51**.\n",
    "\n",
    "Further tests and improvements:\n",
    "- get a better understand of the PCA application and why it didn't performed any close to feature selection.\n",
    "- test other kind of regressions\n",
    "- try a data augmentation"
   ]
  },
  {
   "cell_type": "markdown",
   "metadata": {},
   "source": []
  }
 ],
 "metadata": {
  "interpreter": {
   "hash": "ab4dba9dc3e69a880096b18ec95a53c8d0a6be89083be30f08651bc10ea8d6ac"
  },
  "kernelspec": {
   "display_name": "Python 3.8.12 64-bit ('3.8.12': pyenv)",
   "name": "python3"
  },
  "language_info": {
   "codemirror_mode": {
    "name": "ipython",
    "version": 3
   },
   "file_extension": ".py",
   "mimetype": "text/x-python",
   "name": "python",
   "nbconvert_exporter": "python",
   "pygments_lexer": "ipython3",
   "version": "3.8.12"
  }
 },
 "nbformat": 4,
 "nbformat_minor": 4
}
